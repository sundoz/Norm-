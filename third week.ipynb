{
 "cells": [
  {
   "cell_type": "code",
   "execution_count": 2,
   "metadata": {},
   "outputs": [],
   "source": [
    "# 3.1 там уравнение\n",
    "def f(x):\n",
    "    \n",
    "    if x<=-2:\n",
    "        b=1-(x+2)**2\n",
    "    elif -2<x<=2:\n",
    "        b=-x/2\n",
    "    else:\n",
    "        b=(x-2)**2+1\n",
    "        print(b)\n",
    "        \n",
    "        \n",
    "        "
   ]
  },
  {
   "cell_type": "code",
   "execution_count": 3,
   "metadata": {},
   "outputs": [
    {
     "name": "stdout",
     "output_type": "stream",
     "text": [
      "10\n"
     ]
    }
   ],
   "source": [
    "f(5)\n"
   ]
  },
  {
   "cell_type": "code",
   "execution_count": null,
   "metadata": {},
   "outputs": [],
   "source": [
    "#удаляет из него все нечётные значения, а чётные нацело делит на два\n",
    "def modify_list(l):\n",
    "    while i<len(l):\n",
    "        if l[i]%2!=0:\n",
    "            del l[i]\n",
    "        else :\n",
    "            l[i]=l[i]//2\n",
    "    return(l)\n",
    "            "
   ]
  }
 ],
 "metadata": {
  "kernelspec": {
   "display_name": "Python 3",
   "language": "python",
   "name": "python3"
  },
  "language_info": {
   "codemirror_mode": {
    "name": "ipython",
    "version": 3
   },
   "file_extension": ".py",
   "mimetype": "text/x-python",
   "name": "python",
   "nbconvert_exporter": "python",
   "pygments_lexer": "ipython3",
   "version": "3.7.1"
  }
 },
 "nbformat": 4,
 "nbformat_minor": 2
}
