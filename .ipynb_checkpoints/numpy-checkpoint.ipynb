{
 "cells": [
  {
   "cell_type": "code",
   "execution_count": 12,
   "metadata": {},
   "outputs": [],
   "source": [
    "import numpy as np\n",
    "z=np.zeros(10)"
   ]
  },
  {
   "cell_type": "code",
   "execution_count": 13,
   "metadata": {},
   "outputs": [],
   "source": [
    "z.shape=(2,5)"
   ]
  },
  {
   "cell_type": "code",
   "execution_count": 14,
   "metadata": {},
   "outputs": [
    {
     "data": {
      "text/plain": [
       "array([[0., 0., 0., 0., 0.],\n",
       "       [0., 0., 0., 0., 0.]])"
      ]
     },
     "execution_count": 14,
     "metadata": {},
     "output_type": "execute_result"
    }
   ],
   "source": [
    "z"
   ]
  },
  {
   "cell_type": "code",
   "execution_count": 16,
   "metadata": {},
   "outputs": [],
   "source": [
    "q=np.ones(2)"
   ]
  },
  {
   "cell_type": "code",
   "execution_count": 17,
   "metadata": {},
   "outputs": [
    {
     "data": {
      "text/plain": [
       "array([1., 1.])"
      ]
     },
     "execution_count": 17,
     "metadata": {},
     "output_type": "execute_result"
    }
   ],
   "source": [
    "q"
   ]
  },
  {
   "cell_type": "code",
   "execution_count": 20,
   "metadata": {},
   "outputs": [],
   "source": [
    "w=np.linspace(10,20,10)"
   ]
  },
  {
   "cell_type": "code",
   "execution_count": 22,
   "metadata": {},
   "outputs": [],
   "source": [
    "w.shape=(2,5)"
   ]
  },
  {
   "cell_type": "code",
   "execution_count": 23,
   "metadata": {},
   "outputs": [
    {
     "data": {
      "text/plain": [
       "array([[10.        , 11.11111111, 12.22222222, 13.33333333, 14.44444444],\n",
       "       [15.55555556, 16.66666667, 17.77777778, 18.88888889, 20.        ]])"
      ]
     },
     "execution_count": 23,
     "metadata": {},
     "output_type": "execute_result"
    }
   ],
   "source": [
    "w"
   ]
  },
  {
   "cell_type": "code",
   "execution_count": 24,
   "metadata": {},
   "outputs": [],
   "source": [
    "z=np.linspace(2,4,5)"
   ]
  },
  {
   "cell_type": "code",
   "execution_count": 25,
   "metadata": {},
   "outputs": [
    {
     "data": {
      "text/plain": [
       "array([2. , 2.5, 3. , 3.5, 4. ])"
      ]
     },
     "execution_count": 25,
     "metadata": {},
     "output_type": "execute_result"
    }
   ],
   "source": [
    "z"
   ]
  },
  {
   "cell_type": "code",
   "execution_count": 28,
   "metadata": {},
   "outputs": [
    {
     "data": {
      "text/plain": [
       "array([0, 2, 3])"
      ]
     },
     "execution_count": 28,
     "metadata": {},
     "output_type": "execute_result"
    }
   ],
   "source": [
    "k=np.array([0,2,3])\n",
    "k"
   ]
  },
  {
   "cell_type": "code",
   "execution_count": 29,
   "metadata": {},
   "outputs": [
    {
     "data": {
      "text/plain": [
       "array([2. , 3. , 3.5])"
      ]
     },
     "execution_count": 29,
     "metadata": {},
     "output_type": "execute_result"
    }
   ],
   "source": [
    "z[k]"
   ]
  },
  {
   "cell_type": "code",
   "execution_count": 39,
   "metadata": {},
   "outputs": [
    {
     "data": {
      "text/plain": [
       "array([[ 22,  22,  22,  22],\n",
       "       [ 61,  58,  55,  52],\n",
       "       [ 82,  78,  74,  70],\n",
       "       [112, 106, 100,  94]])"
      ]
     },
     "execution_count": 39,
     "metadata": {},
     "output_type": "execute_result"
    }
   ],
   "source": [
    "A=np.array((1,2,3,4,4,5,5,6,7,7,8,9))\n",
    "B=np.array((9,8,7,6,5,4,3,2,1,2,3,4))\n",
    "B.shape=(3,4)\n",
    "A.shape=(4,3)\n",
    "A@B"
   ]
  },
  {
   "cell_type": "code",
   "execution_count": 40,
   "metadata": {},
   "outputs": [],
   "source": [
    "y = np.random.binomial(10, 0.5, size=1000)"
   ]
  },
  {
   "cell_type": "code",
   "execution_count": 41,
   "metadata": {},
   "outputs": [
    {
     "data": {
      "text/plain": [
       "array([ 4,  4,  7,  5,  4,  6,  2,  4,  6,  1,  2,  5,  6,  5,  4,  7,  7,\n",
       "        8,  5,  4,  7,  3,  6,  7,  4,  4,  3,  7,  5,  5,  5,  5,  7,  5,\n",
       "        7,  6,  5,  5,  4,  4,  7,  3,  7,  4,  4,  7,  4,  4,  6,  5,  6,\n",
       "        4,  6,  6,  2,  4,  3,  6,  7,  5,  4,  6,  7,  4,  7,  4,  3,  5,\n",
       "        8,  4,  7,  5,  7,  3,  5,  4,  8,  4,  5,  4,  1,  7,  3,  6,  5,\n",
       "        3,  6,  5,  4,  4,  4,  4,  4,  4,  2,  5,  6,  8,  5,  3,  4,  2,\n",
       "        5,  6,  7,  8,  6,  7, 10,  5,  2,  2,  6,  4,  3,  6,  4,  6,  7,\n",
       "        4,  5,  4,  5,  8,  4,  8,  5,  7,  3,  6,  7,  3,  5,  7,  6,  3,\n",
       "        2,  8,  4,  4,  7,  5,  1,  8,  4,  6,  3,  7,  3,  3,  8,  6,  1,\n",
       "        5,  4,  5,  7,  4,  4,  3,  3,  6,  5,  3,  8,  3,  4,  5,  3,  9,\n",
       "        6,  4,  7,  8,  6,  4,  8,  5,  2,  4,  4,  5,  7,  5,  4,  2,  8,\n",
       "        6,  5,  5,  6,  5,  3,  5,  1,  7,  4,  5,  4,  5,  3,  7,  4,  2,\n",
       "        2,  3,  7,  7,  6,  4,  5,  7,  4,  5,  5,  6,  7,  6,  8,  5,  5,\n",
       "        3,  6,  4,  6,  3,  3,  5,  5,  4,  6,  5,  5,  5,  5,  6,  5,  6,\n",
       "        5,  5,  2,  6,  2,  6,  4,  6,  6,  3,  6,  4,  6,  3,  7,  7,  6,\n",
       "        5,  3,  4,  6,  3,  3,  1,  2,  7,  6,  5,  1,  6,  3,  6,  5,  1,\n",
       "        3,  6,  8,  2,  5,  5,  3,  5,  6,  5,  5,  3,  4,  5,  6,  5,  7,\n",
       "        5,  6,  5,  5,  5,  2,  7,  4,  5,  3,  2,  1,  6,  8,  6,  5,  4,\n",
       "        4,  6,  6,  7,  6,  4,  7,  4,  6,  5,  5,  4,  4,  3,  3,  5,  6,\n",
       "        3,  7,  6,  6,  7,  7,  4,  5,  6,  6,  6,  6,  7,  3,  6,  5,  8,\n",
       "        7,  4,  8,  6,  6,  7,  7,  2,  6,  5,  5,  4,  6,  6,  5,  6,  4,\n",
       "        3,  4,  5,  3,  6,  4,  6,  4,  3,  4,  5,  7,  9,  5,  5,  7,  6,\n",
       "        5,  4,  6,  8,  5,  6,  7,  3,  6,  5,  6,  4,  8,  6,  5,  5,  5,\n",
       "        4,  6,  4,  7,  7,  5,  3,  5,  2,  8,  6,  4,  3,  8,  4,  4,  5,\n",
       "        3,  4,  7,  3,  4,  4,  4,  7,  3,  2,  3,  6,  4,  5,  4,  6,  8,\n",
       "        4,  7,  6,  6,  4,  5,  4,  4,  4,  6,  3,  7,  5,  4,  5,  4,  5,\n",
       "        5,  4,  7,  4,  2,  5,  8,  3,  6,  4,  7,  4,  4,  6,  5,  3,  5,\n",
       "        6,  4,  8,  4,  5,  7,  6,  6,  3,  5,  4,  5,  2,  3,  3,  3,  8,\n",
       "        6,  4,  5,  6,  5,  7,  5,  3,  3,  8,  4,  5,  5,  6,  4,  4,  3,\n",
       "        5,  2,  5,  1,  5,  9,  6,  4,  5,  3,  8,  3,  4,  3,  7,  7,  2,\n",
       "        8,  5,  4,  4,  9,  3,  3,  6,  2,  4,  5,  3,  3,  4,  4,  4,  6,\n",
       "        3,  5,  4,  5,  5,  3,  7,  3,  8,  6,  4,  5,  5,  5,  6,  5,  7,\n",
       "        4,  6,  5,  7,  6,  3,  7,  4,  3,  3,  8,  5,  4,  8,  6,  4,  4,\n",
       "        5,  1,  4,  3,  5,  5,  4,  6,  6,  3,  3,  6,  6,  6,  3,  9,  6,\n",
       "        7,  5,  6,  5,  7,  4,  5,  4,  4,  6,  6,  7,  5,  5,  4,  3,  4,\n",
       "        4,  7,  5,  4,  5,  6,  6,  3,  8,  7,  2,  4,  5,  6,  1,  6,  2,\n",
       "        5,  4,  3,  7,  5,  5,  4,  4,  5,  7,  8,  4,  6,  6,  2,  6,  3,\n",
       "        5,  5,  5,  5,  4,  5,  7,  5,  5,  8,  4,  4,  5,  6,  4,  7,  5,\n",
       "        4,  6,  6,  3,  4,  6,  4,  5,  5,  4,  9,  5,  9,  6,  4,  6,  5,\n",
       "        7,  6,  6,  5,  4,  6,  3,  7,  6,  3,  5,  5,  3,  5,  4,  5,  5,\n",
       "        7,  8,  6,  3,  6,  6,  5,  4,  7,  4,  6,  5,  7,  7,  3,  3,  6,\n",
       "        5,  6,  5,  7,  5,  3,  7,  3,  5,  7,  6,  3,  3,  5,  4,  4,  5,\n",
       "        3,  4,  6,  7,  5,  4,  4,  4,  8,  5,  6,  4,  5,  5,  3,  5,  6,\n",
       "        7,  3,  6,  4,  3,  3,  7,  1,  2,  5,  6,  4,  5,  6,  6,  6,  7,\n",
       "        5,  4,  4,  5,  4,  4,  3,  5,  3,  3,  3,  4,  7,  2,  3,  8,  5,\n",
       "        5,  4,  5,  5,  3,  4,  3,  7,  7,  7,  7,  7,  5,  7,  5,  5,  4,\n",
       "        6,  7,  7,  6,  2,  5,  4,  4,  6,  6,  6,  4,  7,  6,  7,  3,  7,\n",
       "        3,  7,  4,  4,  7,  4,  7,  4,  5,  6,  5,  5,  4,  4,  6,  4,  3,\n",
       "        6,  6,  4,  5,  4,  6,  3,  3,  6,  6,  5,  6,  5,  4,  5,  4,  6,\n",
       "        6,  7,  6,  3,  7,  2,  3,  4,  4,  8,  5,  4,  6,  7,  6,  6,  5,\n",
       "        5,  3,  4,  6,  8,  3,  5,  4,  4,  6,  5,  7,  4,  8,  5,  3,  6,\n",
       "        8,  8,  6,  4,  7,  7,  3,  6,  3,  4,  3,  4,  4,  4,  7,  6,  5,\n",
       "        3,  2,  8,  5,  1,  5,  3,  4,  2,  4,  4,  5,  5,  3,  1,  4,  6,\n",
       "        6,  4,  4,  4,  5,  9,  7,  6,  5,  5,  6,  7,  4,  5,  3,  6,  7,\n",
       "        3,  5,  6,  4,  4,  4,  6,  8,  3,  3,  5,  4,  2,  4,  6,  4,  6,\n",
       "        6,  2,  8,  5,  8,  4,  6,  5,  7,  5,  6,  5,  5,  3,  2,  6,  3,\n",
       "        5,  5,  4,  5,  4,  6,  5,  5,  6,  6,  2,  5,  3,  4,  5,  6,  4,\n",
       "        6,  4,  6,  5,  3,  5,  6,  5,  3,  3,  5,  6,  5,  3,  9,  7,  4,\n",
       "        5,  6,  7,  6,  6,  4,  3,  5,  6,  4,  6,  6,  7,  5])"
      ]
     },
     "execution_count": 41,
     "metadata": {},
     "output_type": "execute_result"
    }
   ],
   "source": [
    "y\n"
   ]
  },
  {
   "cell_type": "code",
   "execution_count": 43,
   "metadata": {},
   "outputs": [
    {
     "data": {
      "text/plain": [
       "4.961"
      ]
     },
     "execution_count": 43,
     "metadata": {},
     "output_type": "execute_result"
    }
   ],
   "source": [
    "y.mean()"
   ]
  },
  {
   "cell_type": "code",
   "execution_count": 46,
   "metadata": {},
   "outputs": [
    {
     "data": {
      "text/plain": [
       "40452"
      ]
     },
     "execution_count": 46,
     "metadata": {},
     "output_type": "execute_result"
    }
   ],
   "source": [
    "#EX1\n",
    "'''a=np.array((2,3,1,3,12,3,1,23,123,1,3,1))\n",
    "x=2\n",
    "def f(x,coeff):\n",
    "    z=sum(x**i*coeff[i]for i in range(len(a)))\n",
    "    return (z)\n",
    "f(x,a)'''#not "
   ]
  },
  {
   "cell_type": "code",
   "execution_count": 54,
   "metadata": {},
   "outputs": [],
   "source": [
    "def f(x,coeff):\n",
    "    X=np.empty(len(coeff))\n",
    "    X[0]=1\n",
    "    X[1:]=x\n",
    "    y=np.cumprod(X)\n",
    "    return coeff@y\n",
    "    "
   ]
  },
  {
   "cell_type": "code",
   "execution_count": 55,
   "metadata": {},
   "outputs": [
    {
     "data": {
      "text/plain": [
       "31033.0"
      ]
     },
     "execution_count": 55,
     "metadata": {},
     "output_type": "execute_result"
    }
   ],
   "source": [
    "\n",
    "f(4,[1,2,3,4,4,5,6])"
   ]
  },
  {
   "cell_type": "code",
   "execution_count": 58,
   "metadata": {},
   "outputs": [
    {
     "data": {
      "text/plain": [
       "array([ 2.,  4.,  8., 16., 32.])"
      ]
     },
     "execution_count": 58,
     "metadata": {},
     "output_type": "execute_result"
    }
   ],
   "source": [
    "z=np.ones(5)*2\n",
    "y=np.cumprod(z)\n",
    "y"
   ]
  },
  {
   "cell_type": "code",
   "execution_count": 67,
   "metadata": {},
   "outputs": [],
   "source": []
  },
  {
   "cell_type": "markdown",
   "metadata": {},
   "source": [
    "# прихотливая индексация\n",
    "x= np.arange(10)\n",
    "i=np.array([2,1,3,5])"
   ]
  },
  {
   "cell_type": "code",
   "execution_count": 69,
   "metadata": {},
   "outputs": [
    {
     "data": {
      "text/plain": [
       "array([ 0, 22, 22, 22,  4, 22,  6,  7,  8,  9])"
      ]
     },
     "execution_count": 69,
     "metadata": {},
     "output_type": "execute_result"
    }
   ],
   "source": [
    "x[i]=22\n",
    "x"
   ]
  },
  {
   "cell_type": "code",
   "execution_count": 73,
   "metadata": {},
   "outputs": [],
   "source": [
    "np.add.at(x,i+1,1)"
   ]
  },
  {
   "cell_type": "code",
   "execution_count": 74,
   "metadata": {},
   "outputs": [
    {
     "data": {
      "text/plain": [
       "array([ 0, 23, 24, 24,  5, 23,  7,  7,  8,  9])"
      ]
     },
     "execution_count": 74,
     "metadata": {},
     "output_type": "execute_result"
    }
   ],
   "source": [
    "x"
   ]
  },
  {
   "cell_type": "code",
   "execution_count": 95,
   "metadata": {},
   "outputs": [],
   "source": [
    "#разбиение на интервалы\n",
    "import matplotlib.pyplot as plt\n",
    "np.random.seed(42)\n",
    "x=np.random.randn(100)\n",
    "\n",
    "b=np.linspace(-5,5,20)\n",
    "c=np.zeros_like(b)\n",
    "i=np.searchsorted(b,x)\n",
    "np.add.at(c,i,1)"
   ]
  },
  {
   "cell_type": "code",
   "execution_count": 97,
   "metadata": {},
   "outputs": [
    {
     "data": {
      "text/plain": [
       "[<matplotlib.lines.Line2D at 0x21b0655a828>]"
      ]
     },
     "execution_count": 97,
     "metadata": {},
     "output_type": "execute_result"
    },
    {
     "data": {
      "image/png": "[encoded data removed]",
      "text/plain": [
       "<Figure size 432x288 with 1 Axes>"
      ]
     },
     "metadata": {
      "needs_background": "light"
     },
     "output_type": "display_data"
    }
   ],
   "source": [
    "plt.plot(b,c,linestyle='steps')"
   ]
  },
  {
   "cell_type": "code",
   "execution_count": 102,
   "metadata": {},
   "outputs": [
    {
     "data": {
      "text/plain": [
       "(array([ 0.,  0.,  0.,  0.,  1.,  3.,  7.,  9., 23., 22., 17., 10.,  7.,\n",
       "         1.,  0.,  0.,  0.,  0.,  0.]),\n",
       " array([-5.        , -4.47368421, -3.94736842, -3.42105263, -2.89473684,\n",
       "        -2.36842105, -1.84210526, -1.31578947, -0.78947368, -0.26315789,\n",
       "         0.26315789,  0.78947368,  1.31578947,  1.84210526,  2.36842105,\n",
       "         2.89473684,  3.42105263,  3.94736842,  4.47368421,  5.        ]),\n",
       " <a list of 1 Patch objects>)"
      ]
     },
     "execution_count": 102,
     "metadata": {},
     "output_type": "execute_result"
    },
    {
     "data": {
      "image/png": "[encoded data removed]",
      "text/plain": [
       "<Figure size 432x288 with 1 Axes>"
      ]
     },
     "metadata": {
      "needs_background": "light"
     },
     "output_type": "display_data"
    }
   ],
   "source": [
    "plt.hist(x,b,histtype='step')"
   ]
  },
  {
   "cell_type": "code",
   "execution_count": 116,
   "metadata": {},
   "outputs": [],
   "source": [
    "#ахахахах сортировка рандомом\n",
    "def bogosort(x):        \n",
    "    while np.any(x[:-1] > x[1:]):\n",
    "        np.random.shuffle(x)\n",
    "    return x\n",
    "x=np.arange(3,1)"
   ]
  },
  {
   "cell_type": "code",
   "execution_count": 129,
   "metadata": {},
   "outputs": [
    {
     "data": {
      "text/plain": [
       "array([10,  9,  8,  7,  6,  5,  4,  3,  2,  1])"
      ]
     },
     "execution_count": 129,
     "metadata": {},
     "output_type": "execute_result"
    }
   ],
   "source": [
    "x=np.arange(10,0,-1)\n",
    "x"
   ]
  },
  {
   "cell_type": "code",
   "execution_count": 131,
   "metadata": {},
   "outputs": [],
   "source": [
    "np.random.shuffle(x)"
   ]
  },
  {
   "cell_type": "code",
   "execution_count": 132,
   "metadata": {},
   "outputs": [
    {
     "data": {
      "text/plain": [
       "array([ 3,  7,  8,  6,  2,  5,  4,  1, 10,  9])"
      ]
     },
     "execution_count": 132,
     "metadata": {},
     "output_type": "execute_result"
    }
   ],
   "source": [
    "x"
   ]
  },
  {
   "cell_type": "code",
   "execution_count": 135,
   "metadata": {},
   "outputs": [
    {
     "data": {
      "text/plain": [
       "array([ 1,  2,  3,  4,  5,  6,  7,  8, 10,  9])"
      ]
     },
     "execution_count": 135,
     "metadata": {},
     "output_type": "execute_result"
    }
   ],
   "source": [
    "np.partition(x,4)"
   ]
  },
  {
   "cell_type": "code",
   "execution_count": 166,
   "metadata": {},
   "outputs": [],
   "source": [
    "rand=np.random.RandomState(42)\n",
    "x=rand.randint(0,10,(5,5))\n",
    "\n"
   ]
  },
  {
   "cell_type": "code",
   "execution_count": 167,
   "metadata": {},
   "outputs": [
    {
     "data": {
      "text/plain": [
       "array([[6, 3, 7, 4, 6],\n",
       "       [9, 2, 6, 7, 4],\n",
       "       [3, 7, 7, 2, 5],\n",
       "       [4, 1, 7, 5, 1],\n",
       "       [4, 0, 9, 5, 8]])"
      ]
     },
     "execution_count": 167,
     "metadata": {},
     "output_type": "execute_result"
    }
   ],
   "source": [
    "x"
   ]
  },
  {
   "cell_type": "code",
   "execution_count": 168,
   "metadata": {},
   "outputs": [
    {
     "data": {
      "text/plain": [
       "array([[6, 3, 7, 4, 6],\n",
       "       [9, 2, 6, 7, 4],\n",
       "       [3, 7, 7, 2, 5],\n",
       "       [4, 1, 7, 5, 1],\n",
       "       [4, 0, 9, 5, 8]])"
      ]
     },
     "execution_count": 168,
     "metadata": {},
     "output_type": "execute_result"
    }
   ],
   "source": [
    "X=rand.rand(10,2)\n",
    "x"
   ]
  },
  {
   "cell_type": "code",
   "execution_count": 169,
   "metadata": {},
   "outputs": [
    {
     "data": {
      "text/plain": [
       "array([[0.        , 0.12523696, 0.02991324, 0.41387508, 0.05010921,\n",
       "        0.05993518, 0.31356136, 0.55767162, 0.36185884, 0.04270321],\n",
       "       [0.12523696, 0.        , 0.0783406 , 0.42545624, 0.23059253,\n",
       "        0.10813437, 0.05253413, 1.10870014, 0.44758735, 0.15548235],\n",
       "       [0.02991324, 0.0783406 , 0.        , 0.24114428, 0.04045615,\n",
       "        0.12528796, 0.19124779, 0.59898734, 0.21833437, 0.12425254],\n",
       "       [0.41387508, 0.42545624, 0.24114428, 0.        , 0.22765463,\n",
       "        0.71207425, 0.39592002, 0.61349287, 0.01155163, 0.7074592 ],\n",
       "       [0.05010921, 0.23059253, 0.04045615, 0.22765463, 0.        ,\n",
       "        0.21905082, 0.39624849, 0.32821285, 0.16936112, 0.1819548 ],\n",
       "       [0.05993518, 0.10813437, 0.12528796, 0.71207425, 0.21905082,\n",
       "        0.        , 0.30969322, 0.94261558, 0.67233037, 0.00850474],\n",
       "       [0.31356136, 0.05253413, 0.19124779, 0.39592002, 0.39624849,\n",
       "        0.30969322, 0.        , 1.41689162, 0.46427229, 0.38869306],\n",
       "       [0.55767162, 1.10870014, 0.59898734, 0.61349287, 0.32821285,\n",
       "        0.94261558, 1.41689162, 0.        , 0.45668208, 0.80374969],\n",
       "       [0.36185884, 0.44758735, 0.21833437, 0.01155163, 0.16936112,\n",
       "        0.67233037, 0.46427229, 0.45668208, 0.        , 0.64924114],\n",
       "       [0.04270321, 0.15548235, 0.12425254, 0.7074592 , 0.1819548 ,\n",
       "        0.00850474, 0.38869306, 0.80374969, 0.64924114, 0.        ]])"
      ]
     },
     "execution_count": 169,
     "metadata": {},
     "output_type": "execute_result"
    },
    {
     "data": {
      "image/png": "[encoded data removed]",
      "text/plain": [
       "<Figure size 432x288 with 1 Axes>"
      ]
     },
     "metadata": {},
     "output_type": "display_data"
    }
   ],
   "source": [
    "import matplotlib.pyplot as plt \n",
    "import seaborn; seaborn.set()\n",
    "plt.scatter(X[:,0],X[:,1],s=100)\n",
    "dist_sq=np.sum((X[:,np.newaxis,:]-X[np.newaxis,:,:])**2,axis=-1)\n"
   ]
  },
  {
   "cell_type": "code",
   "execution_count": 182,
   "metadata": {},
   "outputs": [
    {
     "name": "stdout",
     "output_type": "stream",
     "text": [
      "[[0 2 9 4 5 1 6 8 3 7]\n",
      " [1 6 2 5 0 9 4 3 8 7]\n",
      " [2 0 4 1 9 5 6 8 3 7]\n",
      " [3 8 4 2 6 0 1 7 9 5]\n",
      " [4 2 0 8 9 5 3 1 7 6]\n",
      " [5 9 0 1 2 4 6 8 3 7]\n",
      " [6 1 2 5 0 9 3 4 8 7]\n",
      " [7 4 8 0 2 3 9 5 1 6]\n",
      " [8 3 4 2 0 1 7 6 9 5]\n",
      " [9 5 0 2 1 4 6 8 3 7]]\n"
     ]
    }
   ],
   "source": [
    "diff=X[:,np.newaxis,:]-X[np.newaxis,:,:]\n",
    "diff\n",
    "sq_diff=diff**2\n",
    "sq_diff\n",
    "didi=sq_diff.sum(-1)\n",
    "didi.diagonal()\n",
    "nearest = np.argsort(didi, axis=1)\n",
    "print(nearest)\n"
   ]
  },
  {
   "cell_type": "code",
   "execution_count": null,
   "metadata": {},
   "outputs": [],
   "source": []
  },
  {
   "cell_type": "code",
   "execution_count": null,
   "metadata": {},
   "outputs": [],
   "source": []
  }
 ],
 "metadata": {
  "kernelspec": {
   "display_name": "Python 3",
   "language": "python",
   "name": "python3"
  },
  "language_info": {
   "codemirror_mode": {
    "name": "ipython",
    "version": 3
   },
   "file_extension": ".py",
   "mimetype": "text/x-python",
   "name": "python",
   "nbconvert_exporter": "python",
   "pygments_lexer": "ipython3",
   "version": "3.7.1"
  }
 },
 "nbformat": 4,
 "nbformat_minor": 2
}
