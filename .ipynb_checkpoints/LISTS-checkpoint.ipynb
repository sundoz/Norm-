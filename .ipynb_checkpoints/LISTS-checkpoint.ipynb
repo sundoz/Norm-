{
 "cells": [
  {
   "cell_type": "code",
   "execution_count": 6,
   "metadata": {},
   "outputs": [
    {
     "name": "stdout",
     "output_type": "stream",
     "text": [
      "2 3 4  5 6 5 4 3 2\n",
      "34\n"
     ]
    }
   ],
   "source": [
    "#Напишите программу, на вход которой подается одна строка с целыми числами. Программа должна вывести сумму этих чисел\n",
    "a=[int(i) for i in input().split()]\n",
    "s=0\n",
    "for i in range(len(a)):\n",
    "    s+=a[i]\n",
    "print(s)"
   ]
  },
  {
   "cell_type": "code",
   "execution_count": 24,
   "metadata": {},
   "outputs": [
    {
     "name": "stdout",
     "output_type": "stream",
     "text": [
      "8\n",
      "8\n"
     ]
    }
   ],
   "source": [
    "# Программа должна для каждого элемента этого списка вывести сумму двух его соседей\n",
    "a=[int(i) for i in input().split()]\n",
    "if len(a)==1:\n",
    "    print (a[0])\n",
    "else:\n",
    "    b=['']*len(a)\n",
    "    b[0]=a[1]+a[len(a)-1]\n",
    "    b[len(a)-1]=a[len(a)-2]+a[0]\n",
    "    for i in range(1,len(a)-1):\n",
    "         b[i]=a[i-1]+a[i+1]\n",
    "    for j in range(len(b)):\n",
    "        print(b[j],end=' ')\n",
    "        \n",
    "        \n",
    "        \n",
    "    \n",
    "    "
   ]
  },
  {
   "cell_type": "code",
   "execution_count": 26,
   "metadata": {},
   "outputs": [
    {
     "name": "stdout",
     "output_type": "stream",
     "text": [
      "1  1 2 2 2 3 3 3 4 4\n",
      "1 2 3 4 "
     ]
    }
   ],
   "source": [
    "#Напишите программу, которая принимает на вход список чисел в одной строке и выводит на экран в одну строку значения, которые повторяются в нём более одного раза.\n",
    "a=[int(i) for i in input().split()]\n",
    "a.sort()\n",
    "i=0\n",
    "b=[]\n",
    "j=0\n",
    "\n",
    "while i<=len(a)-1:\n",
    "    \n",
    "    y=a.count(a[i])\n",
    "    \n",
    "    if y>1:\n",
    "        b+=[a[i]]\n",
    "        j+=1\n",
    "        i+=y-1\n",
    "        \n",
    "    i+=1\n",
    "    \n",
    "for i in range(j):\n",
    "    \n",
    "    print(b[i],end=' ')"
   ]
  },
  {
   "cell_type": "code",
   "execution_count": null,
   "metadata": {},
   "outputs": [],
   "source": []
  },
  {
   "cell_type": "code",
   "execution_count": null,
   "metadata": {},
   "outputs": [],
   "source": []
  }
 ],
 "metadata": {
  "kernelspec": {
   "display_name": "Python 3",
   "language": "python",
   "name": "python3"
  }
 },
 "nbformat": 4,
 "nbformat_minor": 2
}
