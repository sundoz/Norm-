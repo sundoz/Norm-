{
 "cells": [
  {
   "cell_type": "code",
   "execution_count": null,
   "metadata": {},
   "outputs": [],
   "source": [
    "#если n = 7, то программа должна вывести 1 2 2 3 3 3 4.\n",
    "n=int(input())\n",
    "\n",
    "a=1\n",
    "cont=0\n",
    "i=1\n",
    "while i<=n:\n",
    "    if cont<a:\n",
    "        print(a)\n",
    "        cont+=1\n",
    "    else:\n",
    "        cont=0\n",
    "        a+=1\n",
    "    i+=1"
   ]
  },
  {
   "cell_type": "code",
   "execution_count": null,
   "metadata": {},
   "outputs": [],
   "source": []
  }
 ],
 "metadata": {
  "kernelspec": {
   "display_name": "Python 3",
   "language": "python",
   "name": "python3"
  },
  "language_info": {
   "codemirror_mode": {
    "name": "ipython",
    "version": 3
   },
   "file_extension": ".py",
   "mimetype": "text/x-python",
   "name": "python",
   "nbconvert_exporter": "python",
   "pygments_lexer": "ipython3",
   "version": "3.7.1"
  }
 },
 "nbformat": 4,
 "nbformat_minor": 2
}
