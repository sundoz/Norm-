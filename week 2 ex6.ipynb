{
 "cells": [
  {
   "cell_type": "code",
   "execution_count": 4,
   "metadata": {},
   "outputs": [
    {
     "name": "stdout",
     "output_type": "stream",
     "text": [
      "1\n",
      "2\n",
      "3\n",
      "4\n",
      "5\n",
      "-1\n",
      "-2\n",
      "-3\n",
      "-4\n",
      "-5\n",
      "110\n"
     ]
    }
   ],
   "source": [
    "#Напишите программу, которая считывает с консоли числа (по одному в строке) до тех пор, пока сумма введённых чисел не будет равна 0 и сразу после этого выводит сумму квадратов всех считанных чисел.\n",
    "summ=(int(input()))\n",
    "kvadr=summ**2\n",
    "while summ!=0:\n",
    "    b=int(input())\n",
    "    summ+=b\n",
    "    kvadr+=b**2\n",
    "print (kvadr)\n",
    "    "
   ]
  },
  {
   "cell_type": "code",
   "execution_count": null,
   "metadata": {},
   "outputs": [],
   "source": [
    "#если n = 7, то программа должна вывести 1 2 2 3 3 3 4.\n",
    "n=int(input())\n",
    "\n",
    "a=1\n",
    "cont=0\n",
    "i=1\n",
    "while i<=n:\n",
    "    if cont<a:\n",
    "        print(a,end=' ')\n",
    "        cont+=1\n",
    "    else:\n",
    "        cont=0\n",
    "        a+=1\n",
    "        continue\n",
    "    i+=1#у меня почему то здесь она не запускается, но степик ее принял, по идее должна работать)\n",
    "    "
   ]
  },
  {
   "cell_type": "code",
   "execution_count": null,
   "metadata": {},
   "outputs": [],
   "source": []
  },
  {
   "cell_type": "code",
   "execution_count": null,
   "metadata": {},
   "outputs": [],
   "source": [
    "lst=[int(i) for i in input().split()]\n",
    "x=int(input())\n",
    "b=lst.count(x)\n",
    "if b==0:\n",
    "    print('Отсутствуют')\n",
    "else:\n",
    "    for i in range(len(lst)):\n",
    "        if lst[i]==x:\n",
    "            print(i,end=' '')\n",
    "        "
   ]
  },
  {
   "cell_type": "code",
   "execution_count": null,
   "metadata": {},
   "outputs": [],
   "source": []
  },
  {
   "cell_type": "code",
   "execution_count": null,
   "metadata": {},
   "outputs": [],
   "source": []
  }
 ],
 "metadata": {
  "kernelspec": {
   "display_name": "Python 3",
   "language": "python",
   "name": "python3"
  },
  "language_info": {
   "codemirror_mode": {
    "name": "ipython",
    "version": 3
   },
   "file_extension": ".py",
   "mimetype": "text/x-python",
   "name": "python",
   "nbconvert_exporter": "python",
   "pygments_lexer": "ipython3",
   "version": "3.7.1"
  }
 },
 "nbformat": 4,
 "nbformat_minor": 2
}
