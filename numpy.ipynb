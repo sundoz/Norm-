{
 "cells": [
  {
   "cell_type": "code",
   "execution_count": 12,
   "metadata": {},
   "outputs": [],
   "source": [
    "import numpy as np\n",
    "z=np.zeros(10)"
   ]
  },
  {
   "cell_type": "code",
   "execution_count": 13,
   "metadata": {},
   "outputs": [],
   "source": [
    "z.shape=(2,5)"
   ]
  },
  {
   "cell_type": "code",
   "execution_count": 14,
   "metadata": {},
   "outputs": [
    {
     "data": {
      "text/plain": [
       "array([[0., 0., 0., 0., 0.],\n",
       "       [0., 0., 0., 0., 0.]])"
      ]
     },
     "execution_count": 14,
     "metadata": {},
     "output_type": "execute_result"
    }
   ],
   "source": [
    "z"
   ]
  },
  {
   "cell_type": "code",
   "execution_count": 16,
   "metadata": {},
   "outputs": [],
   "source": [
    "q=np.ones(2)"
   ]
  },
  {
   "cell_type": "code",
   "execution_count": 17,
   "metadata": {},
   "outputs": [
    {
     "data": {
      "text/plain": [
       "array([1., 1.])"
      ]
     },
     "execution_count": 17,
     "metadata": {},
     "output_type": "execute_result"
    }
   ],
   "source": [
    "q"
   ]
  },
  {
   "cell_type": "code",
   "execution_count": 20,
   "metadata": {},
   "outputs": [],
   "source": [
    "w=np.linspace(10,20,10)"
   ]
  },
  {
   "cell_type": "code",
   "execution_count": 22,
   "metadata": {},
   "outputs": [],
   "source": [
    "w.shape=(2,5)"
   ]
  },
  {
   "cell_type": "code",
   "execution_count": 23,
   "metadata": {},
   "outputs": [
    {
     "data": {
      "text/plain": [
       "array([[10.        , 11.11111111, 12.22222222, 13.33333333, 14.44444444],\n",
       "       [15.55555556, 16.66666667, 17.77777778, 18.88888889, 20.        ]])"
      ]
     },
     "execution_count": 23,
     "metadata": {},
     "output_type": "execute_result"
    }
   ],
   "source": [
    "w"
   ]
  },
  {
   "cell_type": "code",
   "execution_count": 24,
   "metadata": {},
   "outputs": [],
   "source": [
    "z=np.linspace(2,4,5)"
   ]
  },
  {
   "cell_type": "code",
   "execution_count": 25,
   "metadata": {},
   "outputs": [
    {
     "data": {
      "text/plain": [
       "array([2. , 2.5, 3. , 3.5, 4. ])"
      ]
     },
     "execution_count": 25,
     "metadata": {},
     "output_type": "execute_result"
    }
   ],
   "source": [
    "z"
   ]
  },
  {
   "cell_type": "code",
   "execution_count": 28,
   "metadata": {},
   "outputs": [
    {
     "data": {
      "text/plain": [
       "array([0, 2, 3])"
      ]
     },
     "execution_count": 28,
     "metadata": {},
     "output_type": "execute_result"
    }
   ],
   "source": [
    "k=np.array([0,2,3])\n",
    "k"
   ]
  },
  {
   "cell_type": "code",
   "execution_count": 29,
   "metadata": {},
   "outputs": [
    {
     "data": {
      "text/plain": [
       "array([2. , 3. , 3.5])"
      ]
     },
     "execution_count": 29,
     "metadata": {},
     "output_type": "execute_result"
    }
   ],
   "source": [
    "z[k]"
   ]
  },
  {
   "cell_type": "code",
   "execution_count": 39,
   "metadata": {},
   "outputs": [
    {
     "data": {
      "text/plain": [
       "array([[ 22,  22,  22,  22],\n",
       "       [ 61,  58,  55,  52],\n",
       "       [ 82,  78,  74,  70],\n",
       "       [112, 106, 100,  94]])"
      ]
     },
     "execution_count": 39,
     "metadata": {},
     "output_type": "execute_result"
    }
   ],
   "source": [
    "A=np.array((1,2,3,4,4,5,5,6,7,7,8,9))\n",
    "B=np.array((9,8,7,6,5,4,3,2,1,2,3,4))\n",
    "B.shape=(3,4)\n",
    "A.shape=(4,3)\n",
    "A@B"
   ]
  },
  {
   "cell_type": "code",
   "execution_count": 40,
   "metadata": {},
   "outputs": [],
   "source": [
    "y = np.random.binomial(10, 0.5, size=1000)"
   ]
  },
  {
   "cell_type": "code",
   "execution_count": 41,
   "metadata": {},
   "outputs": [
    {
     "data": {
      "text/plain": [
       "array([ 4,  4,  7,  5,  4,  6,  2,  4,  6,  1,  2,  5,  6,  5,  4,  7,  7,\n",
       "        8,  5,  4,  7,  3,  6,  7,  4,  4,  3,  7,  5,  5,  5,  5,  7,  5,\n",
       "        7,  6,  5,  5,  4,  4,  7,  3,  7,  4,  4,  7,  4,  4,  6,  5,  6,\n",
       "        4,  6,  6,  2,  4,  3,  6,  7,  5,  4,  6,  7,  4,  7,  4,  3,  5,\n",
       "        8,  4,  7,  5,  7,  3,  5,  4,  8,  4,  5,  4,  1,  7,  3,  6,  5,\n",
       "        3,  6,  5,  4,  4,  4,  4,  4,  4,  2,  5,  6,  8,  5,  3,  4,  2,\n",
       "        5,  6,  7,  8,  6,  7, 10,  5,  2,  2,  6,  4,  3,  6,  4,  6,  7,\n",
       "        4,  5,  4,  5,  8,  4,  8,  5,  7,  3,  6,  7,  3,  5,  7,  6,  3,\n",
       "        2,  8,  4,  4,  7,  5,  1,  8,  4,  6,  3,  7,  3,  3,  8,  6,  1,\n",
       "        5,  4,  5,  7,  4,  4,  3,  3,  6,  5,  3,  8,  3,  4,  5,  3,  9,\n",
       "        6,  4,  7,  8,  6,  4,  8,  5,  2,  4,  4,  5,  7,  5,  4,  2,  8,\n",
       "        6,  5,  5,  6,  5,  3,  5,  1,  7,  4,  5,  4,  5,  3,  7,  4,  2,\n",
       "        2,  3,  7,  7,  6,  4,  5,  7,  4,  5,  5,  6,  7,  6,  8,  5,  5,\n",
       "        3,  6,  4,  6,  3,  3,  5,  5,  4,  6,  5,  5,  5,  5,  6,  5,  6,\n",
       "        5,  5,  2,  6,  2,  6,  4,  6,  6,  3,  6,  4,  6,  3,  7,  7,  6,\n",
       "        5,  3,  4,  6,  3,  3,  1,  2,  7,  6,  5,  1,  6,  3,  6,  5,  1,\n",
       "        3,  6,  8,  2,  5,  5,  3,  5,  6,  5,  5,  3,  4,  5,  6,  5,  7,\n",
       "        5,  6,  5,  5,  5,  2,  7,  4,  5,  3,  2,  1,  6,  8,  6,  5,  4,\n",
       "        4,  6,  6,  7,  6,  4,  7,  4,  6,  5,  5,  4,  4,  3,  3,  5,  6,\n",
       "        3,  7,  6,  6,  7,  7,  4,  5,  6,  6,  6,  6,  7,  3,  6,  5,  8,\n",
       "        7,  4,  8,  6,  6,  7,  7,  2,  6,  5,  5,  4,  6,  6,  5,  6,  4,\n",
       "        3,  4,  5,  3,  6,  4,  6,  4,  3,  4,  5,  7,  9,  5,  5,  7,  6,\n",
       "        5,  4,  6,  8,  5,  6,  7,  3,  6,  5,  6,  4,  8,  6,  5,  5,  5,\n",
       "        4,  6,  4,  7,  7,  5,  3,  5,  2,  8,  6,  4,  3,  8,  4,  4,  5,\n",
       "        3,  4,  7,  3,  4,  4,  4,  7,  3,  2,  3,  6,  4,  5,  4,  6,  8,\n",
       "        4,  7,  6,  6,  4,  5,  4,  4,  4,  6,  3,  7,  5,  4,  5,  4,  5,\n",
       "        5,  4,  7,  4,  2,  5,  8,  3,  6,  4,  7,  4,  4,  6,  5,  3,  5,\n",
       "        6,  4,  8,  4,  5,  7,  6,  6,  3,  5,  4,  5,  2,  3,  3,  3,  8,\n",
       "        6,  4,  5,  6,  5,  7,  5,  3,  3,  8,  4,  5,  5,  6,  4,  4,  3,\n",
       "        5,  2,  5,  1,  5,  9,  6,  4,  5,  3,  8,  3,  4,  3,  7,  7,  2,\n",
       "        8,  5,  4,  4,  9,  3,  3,  6,  2,  4,  5,  3,  3,  4,  4,  4,  6,\n",
       "        3,  5,  4,  5,  5,  3,  7,  3,  8,  6,  4,  5,  5,  5,  6,  5,  7,\n",
       "        4,  6,  5,  7,  6,  3,  7,  4,  3,  3,  8,  5,  4,  8,  6,  4,  4,\n",
       "        5,  1,  4,  3,  5,  5,  4,  6,  6,  3,  3,  6,  6,  6,  3,  9,  6,\n",
       "        7,  5,  6,  5,  7,  4,  5,  4,  4,  6,  6,  7,  5,  5,  4,  3,  4,\n",
       "        4,  7,  5,  4,  5,  6,  6,  3,  8,  7,  2,  4,  5,  6,  1,  6,  2,\n",
       "        5,  4,  3,  7,  5,  5,  4,  4,  5,  7,  8,  4,  6,  6,  2,  6,  3,\n",
       "        5,  5,  5,  5,  4,  5,  7,  5,  5,  8,  4,  4,  5,  6,  4,  7,  5,\n",
       "        4,  6,  6,  3,  4,  6,  4,  5,  5,  4,  9,  5,  9,  6,  4,  6,  5,\n",
       "        7,  6,  6,  5,  4,  6,  3,  7,  6,  3,  5,  5,  3,  5,  4,  5,  5,\n",
       "        7,  8,  6,  3,  6,  6,  5,  4,  7,  4,  6,  5,  7,  7,  3,  3,  6,\n",
       "        5,  6,  5,  7,  5,  3,  7,  3,  5,  7,  6,  3,  3,  5,  4,  4,  5,\n",
       "        3,  4,  6,  7,  5,  4,  4,  4,  8,  5,  6,  4,  5,  5,  3,  5,  6,\n",
       "        7,  3,  6,  4,  3,  3,  7,  1,  2,  5,  6,  4,  5,  6,  6,  6,  7,\n",
       "        5,  4,  4,  5,  4,  4,  3,  5,  3,  3,  3,  4,  7,  2,  3,  8,  5,\n",
       "        5,  4,  5,  5,  3,  4,  3,  7,  7,  7,  7,  7,  5,  7,  5,  5,  4,\n",
       "        6,  7,  7,  6,  2,  5,  4,  4,  6,  6,  6,  4,  7,  6,  7,  3,  7,\n",
       "        3,  7,  4,  4,  7,  4,  7,  4,  5,  6,  5,  5,  4,  4,  6,  4,  3,\n",
       "        6,  6,  4,  5,  4,  6,  3,  3,  6,  6,  5,  6,  5,  4,  5,  4,  6,\n",
       "        6,  7,  6,  3,  7,  2,  3,  4,  4,  8,  5,  4,  6,  7,  6,  6,  5,\n",
       "        5,  3,  4,  6,  8,  3,  5,  4,  4,  6,  5,  7,  4,  8,  5,  3,  6,\n",
       "        8,  8,  6,  4,  7,  7,  3,  6,  3,  4,  3,  4,  4,  4,  7,  6,  5,\n",
       "        3,  2,  8,  5,  1,  5,  3,  4,  2,  4,  4,  5,  5,  3,  1,  4,  6,\n",
       "        6,  4,  4,  4,  5,  9,  7,  6,  5,  5,  6,  7,  4,  5,  3,  6,  7,\n",
       "        3,  5,  6,  4,  4,  4,  6,  8,  3,  3,  5,  4,  2,  4,  6,  4,  6,\n",
       "        6,  2,  8,  5,  8,  4,  6,  5,  7,  5,  6,  5,  5,  3,  2,  6,  3,\n",
       "        5,  5,  4,  5,  4,  6,  5,  5,  6,  6,  2,  5,  3,  4,  5,  6,  4,\n",
       "        6,  4,  6,  5,  3,  5,  6,  5,  3,  3,  5,  6,  5,  3,  9,  7,  4,\n",
       "        5,  6,  7,  6,  6,  4,  3,  5,  6,  4,  6,  6,  7,  5])"
      ]
     },
     "execution_count": 41,
     "metadata": {},
     "output_type": "execute_result"
    }
   ],
   "source": [
    "y\n"
   ]
  },
  {
   "cell_type": "code",
   "execution_count": 43,
   "metadata": {},
   "outputs": [
    {
     "data": {
      "text/plain": [
       "4.961"
      ]
     },
     "execution_count": 43,
     "metadata": {},
     "output_type": "execute_result"
    }
   ],
   "source": [
    "y.mean()"
   ]
  },
  {
   "cell_type": "code",
   "execution_count": 46,
   "metadata": {},
   "outputs": [
    {
     "data": {
      "text/plain": [
       "40452"
      ]
     },
     "execution_count": 46,
     "metadata": {},
     "output_type": "execute_result"
    }
   ],
   "source": [
    "#EX1\n",
    "'''a=np.array((2,3,1,3,12,3,1,23,123,1,3,1))\n",
    "x=2\n",
    "def f(x,coeff):\n",
    "    z=sum(x**i*coeff[i]for i in range(len(a)))\n",
    "    return (z)\n",
    "f(x,a)'''#not "
   ]
  },
  {
   "cell_type": "code",
   "execution_count": 54,
   "metadata": {},
   "outputs": [],
   "source": [
    "def f(x,coeff):\n",
    "    X=np.empty(len(coeff))\n",
    "    X[0]=1\n",
    "    X[1:]=x\n",
    "    y=np.cumprod(X)\n",
    "    return coeff@y\n",
    "    "
   ]
  },
  {
   "cell_type": "code",
   "execution_count": 55,
   "metadata": {},
   "outputs": [
    {
     "data": {
      "text/plain": [
       "31033.0"
      ]
     },
     "execution_count": 55,
     "metadata": {},
     "output_type": "execute_result"
    }
   ],
   "source": [
    "\n",
    "f(4,[1,2,3,4,4,5,6])"
   ]
  },
  {
   "cell_type": "code",
   "execution_count": 58,
   "metadata": {},
   "outputs": [
    {
     "data": {
      "text/plain": [
       "array([ 2.,  4.,  8., 16., 32.])"
      ]
     },
     "execution_count": 58,
     "metadata": {},
     "output_type": "execute_result"
    }
   ],
   "source": [
    "z=np.ones(5)*2\n",
    "y=np.cumprod(z)\n",
    "y"
   ]
  },
  {
   "cell_type": "code",
   "execution_count": 67,
   "metadata": {},
   "outputs": [],
   "source": []
  },
  {
   "cell_type": "markdown",
   "metadata": {},
   "source": [
    "# прихотливая индексация\n",
    "x= np.arange(10)\n",
    "i=np.array([2,1,3,5])"
   ]
  },
  {
   "cell_type": "code",
   "execution_count": 69,
   "metadata": {},
   "outputs": [
    {
     "data": {
      "text/plain": [
       "array([ 0, 22, 22, 22,  4, 22,  6,  7,  8,  9])"
      ]
     },
     "execution_count": 69,
     "metadata": {},
     "output_type": "execute_result"
    }
   ],
   "source": [
    "x[i]=22\n",
    "x"
   ]
  },
  {
   "cell_type": "code",
   "execution_count": 73,
   "metadata": {},
   "outputs": [],
   "source": [
    "np.add.at(x,i+1,1)"
   ]
  },
  {
   "cell_type": "code",
   "execution_count": 74,
   "metadata": {},
   "outputs": [
    {
     "data": {
      "text/plain": [
       "array([ 0, 23, 24, 24,  5, 23,  7,  7,  8,  9])"
      ]
     },
     "execution_count": 74,
     "metadata": {},
     "output_type": "execute_result"
    }
   ],
   "source": [
    "x"
   ]
  },
  {
   "cell_type": "code",
   "execution_count": 94,
   "metadata": {},
   "outputs": [
    {
     "ename": "ModuleNotFoundError",
     "evalue": "No module named 'mathplotlib'",
     "output_type": "error",
     "traceback": [
      "\u001b[1;31m---------------------------------------------------------------------------\u001b[0m",
      "\u001b[1;31mModuleNotFoundError\u001b[0m                       Traceback (most recent call last)",
      "\u001b[1;32m<ipython-input-94-6e872716aba3>\u001b[0m in \u001b[0;36m<module>\u001b[1;34m\u001b[0m\n\u001b[0;32m      1\u001b[0m \u001b[1;31m#разбиение на интервалы\u001b[0m\u001b[1;33m\u001b[0m\u001b[1;33m\u001b[0m\u001b[1;33m\u001b[0m\u001b[0m\n\u001b[1;32m----> 2\u001b[1;33m \u001b[1;32mimport\u001b[0m \u001b[0mmathplotlib\u001b[0m\u001b[1;33m.\u001b[0m\u001b[0mpyplot\u001b[0m \u001b[1;32mas\u001b[0m \u001b[0mplt\u001b[0m\u001b[1;33m\u001b[0m\u001b[1;33m\u001b[0m\u001b[0m\n\u001b[0m\u001b[0;32m      3\u001b[0m \u001b[0mnp\u001b[0m\u001b[1;33m.\u001b[0m\u001b[0mrandom\u001b[0m\u001b[1;33m.\u001b[0m\u001b[0mseed\u001b[0m\u001b[1;33m(\u001b[0m\u001b[1;36m42\u001b[0m\u001b[1;33m)\u001b[0m\u001b[1;33m\u001b[0m\u001b[1;33m\u001b[0m\u001b[0m\n\u001b[0;32m      4\u001b[0m \u001b[0mx\u001b[0m\u001b[1;33m=\u001b[0m\u001b[0mnp\u001b[0m\u001b[1;33m.\u001b[0m\u001b[0mrandom\u001b[0m\u001b[1;33m.\u001b[0m\u001b[0mrandn\u001b[0m\u001b[1;33m(\u001b[0m\u001b[1;36m100\u001b[0m\u001b[1;33m)\u001b[0m\u001b[1;33m\u001b[0m\u001b[1;33m\u001b[0m\u001b[0m\n\u001b[0;32m      5\u001b[0m \u001b[1;33m\u001b[0m\u001b[0m\n",
      "\u001b[1;31mModuleNotFoundError\u001b[0m: No module named 'mathplotlib'"
     ]
    }
   ],
   "source": [
    "#разбиение на интервалы\n",
    "import mathplotlib.pyplot as plt\n",
    "np.random.seed(42)\n",
    "x=np.random.randn(100)\n",
    "\n",
    "b=np.linspace(-5,5,20)\n",
    "c=np.zeros_like(b)\n",
    "i=np.searchsorted(b,x)\n",
    "np.add.at(c,i,1)"
   ]
  },
  {
   "cell_type": "code",
   "execution_count": 91,
   "metadata": {},
   "outputs": [
    {
     "ename": "NameError",
     "evalue": "name 'plt' is not defined",
     "output_type": "error",
     "traceback": [
      "\u001b[1;31m---------------------------------------------------------------------------\u001b[0m",
      "\u001b[1;31mNameError\u001b[0m                                 Traceback (most recent call last)",
      "\u001b[1;32m<ipython-input-91-9d5d61769ad2>\u001b[0m in \u001b[0;36m<module>\u001b[1;34m\u001b[0m\n\u001b[1;32m----> 1\u001b[1;33m \u001b[0mplt\u001b[0m\u001b[1;33m,\u001b[0m\u001b[0mplot\u001b[0m\u001b[1;33m(\u001b[0m\u001b[0mb\u001b[0m\u001b[1;33m,\u001b[0m\u001b[0mc\u001b[0m\u001b[1;33m)\u001b[0m\u001b[1;33m\u001b[0m\u001b[1;33m\u001b[0m\u001b[0m\n\u001b[0m",
      "\u001b[1;31mNameError\u001b[0m: name 'plt' is not defined"
     ]
    }
   ],
   "source": [
    "plt,plot(b,c)"
   ]
  },
  {
   "cell_type": "code",
   "execution_count": null,
   "metadata": {},
   "outputs": [],
   "source": []
  }
 ],
 "metadata": {
  "kernelspec": {
   "display_name": "Python 3",
   "language": "python",
   "name": "python3"
  },
  "language_info": {
   "codemirror_mode": {
    "name": "ipython",
    "version": 3
   },
   "file_extension": ".py",
   "mimetype": "text/x-python",
   "name": "python",
   "nbconvert_exporter": "python",
   "pygments_lexer": "ipython3",
   "version": "3.7.1"
  }
 },
 "nbformat": 4,
 "nbformat_minor": 2
}
