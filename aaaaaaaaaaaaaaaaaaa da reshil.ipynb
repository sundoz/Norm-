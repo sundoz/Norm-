{
 "cells": [
  {
   "cell_type": "code",
   "execution_count": null,
   "metadata": {},
   "outputs": [],
   "source": [
    "c=[]\n",
    "a=[int(i) for i in input().split()]\n",
    "c+=[a]\n",
    "x=len(a)\n",
    "for j in range(x-1):\n",
    "    b=[int(i) for i in input().split()]\n",
    "    c+=[b]\n"
   ]
  },
  {
   "cell_type": "code",
   "execution_count": null,
   "metadata": {},
   "outputs": [],
   "source": []
  },
  {
   "cell_type": "code",
   "execution_count": null,
   "metadata": {},
   "outputs": [],
   "source": [
    "### "
   ]
  },
  {
   "cell_type": "code",
   "execution_count": null,
   "metadata": {},
   "outputs": [],
   "source": [
    "'''Напишите программу, на вход которой подаётся прямоугольная матрица в виде последовательности строк, заканчивающихся строкой, содержащей только строку \"end\" (без кавычек)\n",
    "\n",
    "Программа должна вывести матрицу того же размера, у которой каждый элемент в позиции i, j равен сумме элементов первой матрицы на позициях (i-1, j), (i+1, j), (i, j-1), (i, j+1). У крайних символов соседний элемент находится с противоположной стороны матрицы."
   ]
  },
  {
   "cell_type": "code",
   "execution_count": 7,
   "metadata": {},
   "outputs": [
    {
     "name": "stdout",
     "output_type": "stream",
     "text": [
      "1 2 3\n",
      "end\n",
      "3   1\n",
      "[[0, 1, 0]]\n",
      "7 8 9 \n"
     ]
    }
   ],
   "source": [
    "a = []\n",
    "b = []\n",
    "m=0\n",
    "while True:\n",
    "    b = input()\n",
    "    if b != 'end':\n",
    "        b = b.split()\n",
    "        b = [int(i) for i in b]\n",
    "        a.append(b)\n",
    "    if b!='end':\n",
    "        x=len(b)\n",
    "        m+=1\n",
    "    else:\n",
    "        break\n",
    "\n",
    "o=[[0 for i in range(x)] for j in range(m)]\n",
    "\n",
    "for i in range(m):\n",
    "    for j in range(x):\n",
    "        o[i][j]=a[i-1][j]+a[i][j-1]+a[i-m+1][j]+a[i][j-x+1]\n",
    "for i in range(m):\n",
    "    for j in range(x):\n",
    "        print (o[i][j],end=' ')\n",
    "    print()"
   ]
  },
  {
   "cell_type": "code",
   "execution_count": null,
   "metadata": {},
   "outputs": [],
   "source": []
  },
  {
   "cell_type": "code",
   "execution_count": null,
   "metadata": {},
   "outputs": [],
   "source": []
  }
 ],
 "metadata": {
  "kernelspec": {
   "display_name": "Python 3",
   "language": "python",
   "name": "python3"
  },
  "language_info": {
   "codemirror_mode": {
    "name": "ipython",
    "version": 3
   },
   "file_extension": ".py",
   "mimetype": "text/x-python",
   "name": "python",
   "nbconvert_exporter": "python",
   "pygments_lexer": "ipython3",
   "version": "3.7.1"
  }
 },
 "nbformat": 4,
 "nbformat_minor": 2
}
