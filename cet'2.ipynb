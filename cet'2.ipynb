{
 "cells": [
  {
   "cell_type": "code",
   "execution_count": 3,
   "metadata": {},
   "outputs": [
    {
     "data": {
      "text/plain": [
       "'NB_epoch=20\\nbatch_size=128\\nverbose==1\\nNbclasses=10'"
      ]
     },
     "execution_count": 3,
     "metadata": {},
     "output_type": "execute_result"
    }
   ],
   "source": [
    "from __future__ import print_function \n",
    "import numpy as np\n",
    "from keras.datasets import mnist\n",
    "from keras.models import Sequential \n",
    "from keras.layers.core import Dense, Activation\n",
    "from keras.optimizers import SGD\n",
    "from keras.utils import np_utils\n",
    "np.random.seed(42)\n",
    "\"\"\"NB_epoch=20\n",
    "batch_size=128\n",
    "verbose==1\n",
    "Nbclasses=10\n",
    "optimizer=SGD()\n",
    "N_HIDDEN=128\n",
    "vs=0.2\"\"\"\n",
    "\n"
   ]
  },
  {
   "cell_type": "code",
   "execution_count": 5,
   "metadata": {},
   "outputs": [
    {
     "name": "stdout",
     "output_type": "stream",
     "text": [
      "60000\n",
      "10000\n"
     ]
    }
   ],
   "source": [
    "(X_train,y_train),(X_test,y_test)=mnist.load_data()\n",
    "X_train=X_train.reshape(60000,784).astype('float32')/255\n",
    "X_test=X_test.reshape(10000,784).astype('float32')/255\n",
    "print(X_train.shape[0])\n",
    "print(X_test.shape[0])\n"
   ]
  },
  {
   "cell_type": "code",
   "execution_count": 11,
   "metadata": {},
   "outputs": [],
   "source": [
    "Y_train=np_utils.to_categorical(y_train,10)\n",
    "Y_test=np_utils.to_categorical(y_test,10)"
   ]
  },
  {
   "cell_type": "code",
   "execution_count": 20,
   "metadata": {},
   "outputs": [
    {
     "name": "stdout",
     "output_type": "stream",
     "text": [
      "_________________________________________________________________\n",
      "Layer (type)                 Output Shape              Param #   \n",
      "=================================================================\n",
      "dense_6 (Dense)              (None, 128)               100480    \n",
      "_________________________________________________________________\n",
      "dense_7 (Dense)              (None, 128)               16512     \n",
      "_________________________________________________________________\n",
      "dense_8 (Dense)              (None, 10)                1290      \n",
      "=================================================================\n",
      "Total params: 118,282\n",
      "Trainable params: 118,282\n",
      "Non-trainable params: 0\n",
      "_________________________________________________________________\n"
     ]
    }
   ],
   "source": [
    "model=Sequential()\n",
    "model.add(Dense(128,input_shape=(784, ), activation='relu'))\n",
    "model.add(Dense(128,activation='relu'))\n",
    "model.add(Dense(10,activation='softmax'))\n",
    "model.summary()"
   ]
  },
  {
   "cell_type": "code",
   "execution_count": 21,
   "metadata": {},
   "outputs": [],
   "source": [
    "model.compile(loss='categorical_crossentropy',\n",
    "             optimizer=SGD(),\n",
    "             metrics=['accuracy'])\n"
   ]
  },
  {
   "cell_type": "code",
   "execution_count": null,
   "metadata": {},
   "outputs": [
    {
     "name": "stdout",
     "output_type": "stream",
     "text": [
      "Train on 48000 samples, validate on 12000 samples\n",
      "Epoch 1/100\n",
      "48000/48000 [==============================] - 2s 37us/step - loss: 0.1954 - acc: 0.9444 - val_loss: 0.1920 - val_acc: 0.9478\n",
      "Epoch 2/100\n",
      "48000/48000 [==============================] - 2s 34us/step - loss: 0.1901 - acc: 0.9462 - val_loss: 0.1876 - val_acc: 0.9481\n",
      "Epoch 3/100\n",
      "48000/48000 [==============================] - 2s 34us/step - loss: 0.1851 - acc: 0.9469 - val_loss: 0.1832 - val_acc: 0.9494\n",
      "Epoch 4/100\n",
      "48000/48000 [==============================] - 2s 34us/step - loss: 0.1804 - acc: 0.9487 - val_loss: 0.1788 - val_acc: 0.9511\n",
      "Epoch 5/100\n",
      "48000/48000 [==============================] - 2s 34us/step - loss: 0.1756 - acc: 0.9498 - val_loss: 0.1766 - val_acc: 0.9522\n",
      "Epoch 6/100\n",
      "48000/48000 [==============================] - 2s 34us/step - loss: 0.1712 - acc: 0.9508 - val_loss: 0.1733 - val_acc: 0.9520\n",
      "Epoch 7/100\n",
      "48000/48000 [==============================] - 2s 34us/step - loss: 0.1671 - acc: 0.9520 - val_loss: 0.1699 - val_acc: 0.9529\n",
      "Epoch 8/100\n",
      "48000/48000 [==============================] - 2s 41us/step - loss: 0.1632 - acc: 0.9527 - val_loss: 0.1663 - val_acc: 0.9547\n",
      "Epoch 9/100\n",
      "48000/48000 [==============================] - 2s 34us/step - loss: 0.1594 - acc: 0.9536 - val_loss: 0.1636 - val_acc: 0.9556\n",
      "Epoch 10/100\n",
      "48000/48000 [==============================] - 2s 32us/step - loss: 0.1558 - acc: 0.9551 - val_loss: 0.1617 - val_acc: 0.9557\n",
      "Epoch 11/100\n",
      "48000/48000 [==============================] - 2s 36us/step - loss: 0.1523 - acc: 0.9560 - val_loss: 0.1579 - val_acc: 0.9572\n",
      "Epoch 12/100\n",
      "48000/48000 [==============================] - 2s 33us/step - loss: 0.1490 - acc: 0.9574 - val_loss: 0.1555 - val_acc: 0.9573\n",
      "Epoch 13/100\n",
      "48000/48000 [==============================] - 2s 32us/step - loss: 0.1457 - acc: 0.9579 - val_loss: 0.1529 - val_acc: 0.9590\n",
      "Epoch 14/100\n",
      "48000/48000 [==============================] - 2s 33us/step - loss: 0.1425 - acc: 0.9589 - val_loss: 0.1520 - val_acc: 0.9588\n",
      "Epoch 15/100\n",
      "48000/48000 [==============================] - 2s 34us/step - loss: 0.1393 - acc: 0.9605 - val_loss: 0.1491 - val_acc: 0.9597\n",
      "Epoch 16/100\n",
      "48000/48000 [==============================] - 2s 33us/step - loss: 0.1367 - acc: 0.9612 - val_loss: 0.1481 - val_acc: 0.9593\n",
      "Epoch 17/100\n",
      "48000/48000 [==============================] - 2s 37us/step - loss: 0.1338 - acc: 0.9619 - val_loss: 0.1458 - val_acc: 0.9601\n",
      "Epoch 18/100\n",
      "48000/48000 [==============================] - 2s 32us/step - loss: 0.1311 - acc: 0.9628 - val_loss: 0.1437 - val_acc: 0.9615\n",
      "Epoch 19/100\n",
      "48000/48000 [==============================] - 2s 32us/step - loss: 0.1286 - acc: 0.9634 - val_loss: 0.1408 - val_acc: 0.9617\n",
      "Epoch 20/100\n",
      "48000/48000 [==============================] - 2s 41us/step - loss: 0.1260 - acc: 0.9641 - val_loss: 0.1405 - val_acc: 0.9620\n",
      "Epoch 21/100\n",
      "48000/48000 [==============================] - 2s 43us/step - loss: 0.1237 - acc: 0.9646 - val_loss: 0.1374 - val_acc: 0.9626\n",
      "Epoch 22/100\n",
      "48000/48000 [==============================] - 2s 35us/step - loss: 0.1212 - acc: 0.9657 - val_loss: 0.1363 - val_acc: 0.9630\n",
      "Epoch 23/100\n",
      "48000/48000 [==============================] - 2s 34us/step - loss: 0.1191 - acc: 0.9661 - val_loss: 0.1344 - val_acc: 0.9634\n",
      "Epoch 24/100\n",
      "48000/48000 [==============================] - 2s 41us/step - loss: 0.1166 - acc: 0.9669 - val_loss: 0.1339 - val_acc: 0.9632\n",
      "Epoch 25/100\n",
      "48000/48000 [==============================] - 2s 34us/step - loss: 0.1144 - acc: 0.9676 - val_loss: 0.1323 - val_acc: 0.9634\n",
      "Epoch 26/100\n",
      "48000/48000 [==============================] - 2s 34us/step - loss: 0.1126 - acc: 0.9684 - val_loss: 0.1311 - val_acc: 0.9639\n",
      "Epoch 27/100\n",
      "48000/48000 [==============================] - 2s 35us/step - loss: 0.1105 - acc: 0.9690 - val_loss: 0.1294 - val_acc: 0.9645\n",
      "Epoch 28/100\n",
      "48000/48000 [==============================] - 2s 34us/step - loss: 0.1084 - acc: 0.9693 - val_loss: 0.1285 - val_acc: 0.9649\n",
      "Epoch 29/100\n",
      "48000/48000 [==============================] - 2s 34us/step - loss: 0.1067 - acc: 0.9699 - val_loss: 0.1268 - val_acc: 0.9645\n",
      "Epoch 30/100\n",
      "48000/48000 [==============================] - 2s 41us/step - loss: 0.1048 - acc: 0.9704 - val_loss: 0.1248 - val_acc: 0.9651\n",
      "Epoch 31/100\n",
      "48000/48000 [==============================] - 2s 39us/step - loss: 0.1031 - acc: 0.9709 - val_loss: 0.1244 - val_acc: 0.9653\n",
      "Epoch 32/100\n",
      "48000/48000 [==============================] - 2s 35us/step - loss: 0.1012 - acc: 0.9719 - val_loss: 0.1229 - val_acc: 0.9664\n",
      "Epoch 33/100\n",
      "48000/48000 [==============================] - 2s 37us/step - loss: 0.0996 - acc: 0.9720 - val_loss: 0.1220 - val_acc: 0.9659\n",
      "Epoch 34/100\n",
      "48000/48000 [==============================] - 2s 35us/step - loss: 0.0979 - acc: 0.9728 - val_loss: 0.1209 - val_acc: 0.9663\n",
      "Epoch 35/100\n",
      "48000/48000 [==============================] - 2s 36us/step - loss: 0.0963 - acc: 0.9731 - val_loss: 0.1200 - val_acc: 0.9667\n",
      "Epoch 36/100\n",
      "48000/48000 [==============================] - 2s 36us/step - loss: 0.0949 - acc: 0.9731 - val_loss: 0.1188 - val_acc: 0.9667\n",
      "Epoch 37/100\n",
      "48000/48000 [==============================] - 2s 38us/step - loss: 0.0933 - acc: 0.9739 - val_loss: 0.1189 - val_acc: 0.9667\n",
      "Epoch 38/100\n",
      "48000/48000 [==============================] - 2s 36us/step - loss: 0.0917 - acc: 0.9745 - val_loss: 0.1169 - val_acc: 0.9669\n",
      "Epoch 39/100\n",
      "48000/48000 [==============================] - 2s 43us/step - loss: 0.0902 - acc: 0.9750 - val_loss: 0.1176 - val_acc: 0.9664\n",
      "Epoch 40/100\n",
      "48000/48000 [==============================] - 2s 38us/step - loss: 0.0889 - acc: 0.9749 - val_loss: 0.1152 - val_acc: 0.9677\n",
      "Epoch 41/100\n",
      "48000/48000 [==============================] - 2s 35us/step - loss: 0.0875 - acc: 0.9758 - val_loss: 0.1144 - val_acc: 0.9675\n",
      "Epoch 42/100\n",
      "48000/48000 [==============================] - 2s 35us/step - loss: 0.0860 - acc: 0.9759 - val_loss: 0.1137 - val_acc: 0.9680\n",
      "Epoch 43/100\n",
      "48000/48000 [==============================] - 2s 35us/step - loss: 0.0848 - acc: 0.9764 - val_loss: 0.1127 - val_acc: 0.9682\n",
      "Epoch 44/100\n",
      "48000/48000 [==============================] - 2s 36us/step - loss: 0.0834 - acc: 0.9766 - val_loss: 0.1125 - val_acc: 0.9682\n",
      "Epoch 45/100\n",
      "48000/48000 [==============================] - 2s 36us/step - loss: 0.0821 - acc: 0.9770 - val_loss: 0.1117 - val_acc: 0.9677\n",
      "Epoch 46/100\n",
      "48000/48000 [==============================] - 2s 36us/step - loss: 0.0811 - acc: 0.9772 - val_loss: 0.1109 - val_acc: 0.9681\n",
      "Epoch 47/100\n",
      "48000/48000 [==============================] - 2s 35us/step - loss: 0.0796 - acc: 0.9777 - val_loss: 0.1103 - val_acc: 0.9684\n",
      "Epoch 48/100\n",
      "48000/48000 [==============================] - 2s 40us/step - loss: 0.0787 - acc: 0.9781 - val_loss: 0.1109 - val_acc: 0.9690\n",
      "Epoch 49/100\n",
      "48000/48000 [==============================] - 2s 36us/step - loss: 0.0775 - acc: 0.9782 - val_loss: 0.1093 - val_acc: 0.9687\n",
      "Epoch 50/100\n",
      "48000/48000 [==============================] - 2s 36us/step - loss: 0.0763 - acc: 0.9789 - val_loss: 0.1079 - val_acc: 0.9693\n",
      "Epoch 51/100\n",
      "48000/48000 [==============================] - 2s 35us/step - loss: 0.0751 - acc: 0.9791 - val_loss: 0.1079 - val_acc: 0.9694\n",
      "Epoch 52/100\n",
      "48000/48000 [==============================] - 2s 36us/step - loss: 0.0740 - acc: 0.9792 - val_loss: 0.1065 - val_acc: 0.9694\n",
      "Epoch 53/100\n",
      "48000/48000 [==============================] - 2s 36us/step - loss: 0.0730 - acc: 0.9794 - val_loss: 0.1068 - val_acc: 0.9699\n",
      "Epoch 54/100\n",
      "48000/48000 [==============================] - 2s 36us/step - loss: 0.0719 - acc: 0.9801 - val_loss: 0.1064 - val_acc: 0.9697\n",
      "Epoch 55/100\n",
      "48000/48000 [==============================] - 2s 36us/step - loss: 0.0710 - acc: 0.9804 - val_loss: 0.1053 - val_acc: 0.9699\n",
      "Epoch 56/100\n",
      "48000/48000 [==============================] - 2s 36us/step - loss: 0.0700 - acc: 0.9807 - val_loss: 0.1050 - val_acc: 0.9699\n",
      "Epoch 57/100\n",
      "48000/48000 [==============================] - 2s 42us/step - loss: 0.0689 - acc: 0.9810 - val_loss: 0.1050 - val_acc: 0.9697\n",
      "Epoch 58/100\n",
      "48000/48000 [==============================] - 2s 51us/step - loss: 0.0679 - acc: 0.9815 - val_loss: 0.1054 - val_acc: 0.9700\n",
      "Epoch 59/100\n"
     ]
    },
    {
     "name": "stdout",
     "output_type": "stream",
     "text": [
      "48000/48000 [==============================] - 2s 41us/step - loss: 0.0670 - acc: 0.9813 - val_loss: 0.1039 - val_acc: 0.9704\n",
      "Epoch 60/100\n",
      "48000/48000 [==============================] - 2s 35us/step - loss: 0.0661 - acc: 0.9821 - val_loss: 0.1031 - val_acc: 0.9705\n",
      "Epoch 61/100\n",
      "48000/48000 [==============================] - 2s 34us/step - loss: 0.0651 - acc: 0.9818 - val_loss: 0.1019 - val_acc: 0.9710\n",
      "Epoch 62/100\n",
      "48000/48000 [==============================] - 2s 35us/step - loss: 0.0643 - acc: 0.9826 - val_loss: 0.1018 - val_acc: 0.9707\n",
      "Epoch 63/100\n",
      "48000/48000 [==============================] - 2s 33us/step - loss: 0.0635 - acc: 0.9828 - val_loss: 0.1015 - val_acc: 0.9711\n",
      "Epoch 64/100\n",
      "48000/48000 [==============================] - 2s 33us/step - loss: 0.0624 - acc: 0.9833 - val_loss: 0.1007 - val_acc: 0.9720\n",
      "Epoch 65/100\n",
      "48000/48000 [==============================] - 1s 31us/step - loss: 0.0617 - acc: 0.9834 - val_loss: 0.1004 - val_acc: 0.9714\n",
      "Epoch 66/100\n",
      "48000/48000 [==============================] - 2s 34us/step - loss: 0.0607 - acc: 0.9839 - val_loss: 0.1005 - val_acc: 0.9717\n",
      "Epoch 67/100\n",
      "48000/48000 [==============================] - 2s 34us/step - loss: 0.0600 - acc: 0.9836 - val_loss: 0.0998 - val_acc: 0.9718\n",
      "Epoch 68/100\n",
      "48000/48000 [==============================] - 2s 32us/step - loss: 0.0592 - acc: 0.9840 - val_loss: 0.1004 - val_acc: 0.9708\n",
      "Epoch 69/100\n",
      "48000/48000 [==============================] - 2s 32us/step - loss: 0.0583 - acc: 0.9844 - val_loss: 0.0989 - val_acc: 0.9721\n",
      "Epoch 70/100\n",
      "48000/48000 [==============================] - 2s 32us/step - loss: 0.0576 - acc: 0.9848 - val_loss: 0.0991 - val_acc: 0.9718\n",
      "Epoch 71/100\n",
      "48000/48000 [==============================] - 1s 30us/step - loss: 0.0568 - acc: 0.9853 - val_loss: 0.0993 - val_acc: 0.9719\n",
      "Epoch 72/100\n",
      "48000/48000 [==============================] - 1s 30us/step - loss: 0.0561 - acc: 0.9854 - val_loss: 0.0977 - val_acc: 0.9730\n",
      "Epoch 73/100\n",
      "48000/48000 [==============================] - 2s 33us/step - loss: 0.0553 - acc: 0.9855 - val_loss: 0.0974 - val_acc: 0.9721\n",
      "Epoch 74/100\n",
      "48000/48000 [==============================] - 2s 33us/step - loss: 0.0547 - acc: 0.9859 - val_loss: 0.0972 - val_acc: 0.9724\n",
      "Epoch 75/100\n",
      "48000/48000 [==============================] - 2s 33us/step - loss: 0.0539 - acc: 0.9857 - val_loss: 0.0974 - val_acc: 0.9730\n",
      "Epoch 76/100\n",
      "48000/48000 [==============================] - 2s 35us/step - loss: 0.0534 - acc: 0.9862 - val_loss: 0.0970 - val_acc: 0.9726\n",
      "Epoch 77/100\n",
      "48000/48000 [==============================] - 2s 35us/step - loss: 0.0526 - acc: 0.9865 - val_loss: 0.0960 - val_acc: 0.9732\n",
      "Epoch 78/100\n",
      "48000/48000 [==============================] - 2s 35us/step - loss: 0.0519 - acc: 0.9864 - val_loss: 0.0959 - val_acc: 0.9728\n",
      "Epoch 79/100\n",
      "48000/48000 [==============================] - 2s 31us/step - loss: 0.0512 - acc: 0.9870 - val_loss: 0.0963 - val_acc: 0.9731\n",
      "Epoch 80/100\n",
      "48000/48000 [==============================] - 1s 30us/step - loss: 0.0507 - acc: 0.9868 - val_loss: 0.0952 - val_acc: 0.9733\n",
      "Epoch 81/100\n",
      "48000/48000 [==============================] - 2s 32us/step - loss: 0.0499 - acc: 0.9873 - val_loss: 0.0957 - val_acc: 0.9732\n",
      "Epoch 82/100\n",
      "48000/48000 [==============================] - 1s 31us/step - loss: 0.0493 - acc: 0.9874 - val_loss: 0.0949 - val_acc: 0.9735\n",
      "Epoch 83/100\n",
      "48000/48000 [==============================] - 2s 31us/step - loss: 0.0487 - acc: 0.9876 - val_loss: 0.0959 - val_acc: 0.9731\n",
      "Epoch 84/100\n",
      "48000/48000 [==============================] - 2s 35us/step - loss: 0.0479 - acc: 0.9879 - val_loss: 0.0950 - val_acc: 0.9726\n",
      "Epoch 85/100\n",
      "48000/48000 [==============================] - 2s 32us/step - loss: 0.0475 - acc: 0.9880 - val_loss: 0.0947 - val_acc: 0.9736\n",
      "Epoch 86/100\n",
      "48000/48000 [==============================] - 1s 31us/step - loss: 0.0469 - acc: 0.9880 - val_loss: 0.0949 - val_acc: 0.9734\n",
      "Epoch 87/100\n",
      "48000/48000 [==============================] - 2s 33us/step - loss: 0.0462 - acc: 0.9880 - val_loss: 0.0940 - val_acc: 0.9736\n",
      "Epoch 88/100\n",
      "48000/48000 [==============================] - 1s 31us/step - loss: 0.0457 - acc: 0.9884 - val_loss: 0.0940 - val_acc: 0.9730\n",
      "Epoch 89/100\n",
      "48000/48000 [==============================] - 2s 33us/step - loss: 0.0451 - acc: 0.9887 - val_loss: 0.0932 - val_acc: 0.9737\n",
      "Epoch 90/100\n",
      "48000/48000 [==============================] - 1s 31us/step - loss: 0.0446 - acc: 0.9890 - val_loss: 0.0941 - val_acc: 0.9737\n",
      "Epoch 91/100\n",
      "48000/48000 [==============================] - 2s 32us/step - loss: 0.0441 - acc: 0.9891 - val_loss: 0.0929 - val_acc: 0.9735\n",
      "Epoch 92/100\n",
      "48000/48000 [==============================] - 2s 32us/step - loss: 0.0435 - acc: 0.9891 - val_loss: 0.0934 - val_acc: 0.9741\n",
      "Epoch 93/100\n",
      "48000/48000 [==============================] - 1s 30us/step - loss: 0.0430 - acc: 0.9895 - val_loss: 0.0929 - val_acc: 0.9735\n",
      "Epoch 94/100\n",
      "48000/48000 [==============================] - 1s 29us/step - loss: 0.0424 - acc: 0.9897 - val_loss: 0.0924 - val_acc: 0.9738\n",
      "Epoch 95/100\n",
      "48000/48000 [==============================] - 1s 30us/step - loss: 0.0418 - acc: 0.9899 - val_loss: 0.0924 - val_acc: 0.9744\n",
      "Epoch 96/100\n",
      "33024/48000 [===================>..........] - ETA: 0s - loss: 0.0415 - acc: 0.9903"
     ]
    }
   ],
   "source": [
    "model.fit(X_train,Y_train,\n",
    "         batch_size=128,epochs=100,\n",
    "         verbose=1, validation_split=0.2)\n"
   ]
  },
  {
   "cell_type": "code",
   "execution_count": 24,
   "metadata": {},
   "outputs": [
    {
     "name": "stdout",
     "output_type": "stream",
     "text": [
      "10000/10000 [==============================] - 0s 31us/step\n"
     ]
    },
    {
     "data": {
      "text/plain": [
       "[0.19975470214039087, 0.9408]"
      ]
     },
     "execution_count": 24,
     "metadata": {},
     "output_type": "execute_result"
    }
   ],
   "source": [
    "model.evaluate(X_test,Y_test, verbose=1)"
   ]
  },
  {
   "cell_type": "code",
   "execution_count": null,
   "metadata": {},
   "outputs": [],
   "source": []
  }
 ],
 "metadata": {
  "kernelspec": {
   "display_name": "Python 3",
   "language": "python",
   "name": "python3"
  },
  "language_info": {
   "codemirror_mode": {
    "name": "ipython",
    "version": 3
   },
   "file_extension": ".py",
   "mimetype": "text/x-python",
   "name": "python",
   "nbconvert_exporter": "python",
   "pygments_lexer": "ipython3",
   "version": "3.6.8"
  }
 },
 "nbformat": 4,
 "nbformat_minor": 2
}
