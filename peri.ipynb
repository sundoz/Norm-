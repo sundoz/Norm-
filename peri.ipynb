{
 "cells": [
  {
   "cell_type": "code",
   "execution_count": 44,
   "metadata": {},
   "outputs": [
    {
     "name": "stdout",
     "output_type": "stream",
     "text": [
      "2\n",
      "7\n",
      "4\n",
      "8\n",
      "\t 4 \t 5 \t 6 \t 7 \t 8 \t \n",
      "2 \t 8 \t 10 \t 12 \t 14 \t 16 \t \n",
      "3 \t 12 \t 15 \t 18 \t 21 \t 24 \t \n",
      "4 \t 16 \t 20 \t 24 \t 28 \t 32 \t \n",
      "5 \t 20 \t 25 \t 30 \t 35 \t 40 \t \n",
      "6 \t 24 \t 30 \t 36 \t 42 \t 48 \t \n",
      "7 \t 28 \t 35 \t 42 \t 49 \t 56 \t \n"
     ]
    }
   ],
   "source": [
    "a=int(input())\n",
    "b=int(input())\n",
    "c=int(input())\n",
    "d=int(input())\n",
    "print('\\t',end=' ')\n",
    "for z in range (c,d+1):\n",
    "    print(z,'\\t',end=' ')\n",
    "print()\n",
    "\n",
    "for i in range(a,b+1):\n",
    "    print(i,'\\t',end=' ')\n",
    "    \n",
    "    for j in range(c,d+1):\n",
    "        \n",
    "        print(i*j,'\\t',end=' ')\n",
    "    print()\n"
   ]
  },
  {
   "cell_type": "code",
   "execution_count": null,
   "metadata": {},
   "outputs": [],
   "source": [
    "a=int(input())\n",
    "b= int(input())\n",
    "s=0\n",
    "number=0\n",
    "for i in range(a,b+1):\n",
    "    if i%3==0:\n",
    "        s+=i\n",
    "        number+=1\n",
    "print(s/number)"
   ]
  },
  {
   "cell_type": "code",
   "execution_count": null,
   "metadata": {},
   "outputs": [],
   "source": []
  },
  {
   "cell_type": "code",
   "execution_count": null,
   "metadata": {},
   "outputs": [],
   "source": []
  }
 ],
 "metadata": {
  "kernelspec": {
   "display_name": "Python 3",
   "language": "python",
   "name": "python3"
  },
  "language_info": {
   "codemirror_mode": {
    "name": "ipython",
    "version": 3
   },
   "file_extension": ".py",
   "mimetype": "text/x-python",
   "name": "python",
   "nbconvert_exporter": "python",
   "pygments_lexer": "ipython3",
   "version": "3.7.1"
  }
 },
 "nbformat": 4,
 "nbformat_minor": 2
}
