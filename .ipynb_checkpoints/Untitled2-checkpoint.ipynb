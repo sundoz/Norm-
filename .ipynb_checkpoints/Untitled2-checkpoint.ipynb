{
 "cells": [
  {
   "cell_type": "code",
   "execution_count": 2,
   "metadata": {},
   "outputs": [
    {
     "name": "stdout",
     "output_type": "stream",
     "text": [
      "1 2 3 \n",
      "1 2 3 \n",
      "1 2 3\n"
     ]
    }
   ],
   "source": [
    "c=[]\n",
    "a=[int(i) for i in input().split()]\n",
    "c+=[a]\n",
    "x=len(a)\n",
    "for j in range(x-1):\n",
    "    b=[int(i) for i in input().split()]\n",
    "    c+=[b]\n"
   ]
  },
  {
   "cell_type": "code",
   "execution_count": 7,
   "metadata": {},
   "outputs": [
    {
     "name": "stdout",
     "output_type": "stream",
     "text": [
      "9 5 3\n",
      "0 7 -1\n",
      "-5 2 9\n",
      "3 21 22 \n",
      "10 6 19 \n",
      "20 16 -1 \n"
     ]
    }
   ],
   "source": [
    "c=[]\n",
    "a=[int(i) for i in input().split()]\n",
    "c+=[a]\n",
    "x=len(a)\n",
    "for j in range(x-1):\n",
    "    b=[int(i) for i in input().split()]\n",
    "    c+=[b]\n",
    "b=[[0 for i in range(x)] for j in range(x)]\n",
    "q=0\n",
    "w=0\n",
    "e=0\n",
    "r=0\n",
    "for i in range(x):\n",
    "    for j in range(x):\n",
    "        if j==0:\n",
    "            q=c[i][x-1]\n",
    "        else:\n",
    "            q=c[i][j-1]\n",
    "        if j==x-1:\n",
    "            w=c[i][0]\n",
    "        else:\n",
    "            w=c[i][j+1]\n",
    "        if i==0:\n",
    "            e=c[x-1][j]\n",
    "        else:\n",
    "            e=c[i-1][j]\n",
    "        if i==x-1:\n",
    "            r=c[0][j]\n",
    "        else:\n",
    "            r=c[i+1][j]\n",
    "        b[i][j]=q+w+e+r\n",
    "\n",
    "for i in range(x):\n",
    "    for j in range(x):\n",
    "        print (b[i][j],end=' ')\n",
    "    print()"
   ]
  },
  {
   "cell_type": "code",
   "execution_count": null,
   "metadata": {},
   "outputs": [],
   "source": [
    "### "
   ]
  },
  {
   "cell_type": "code",
   "execution_count": null,
   "metadata": {},
   "outputs": [],
   "source": []
  }
 ],
 "metadata": {
  "kernelspec": {
   "display_name": "Python 3",
   "language": "python",
   "name": "python3"
  }
 },
 "nbformat": 4,
 "nbformat_minor": 2
}
