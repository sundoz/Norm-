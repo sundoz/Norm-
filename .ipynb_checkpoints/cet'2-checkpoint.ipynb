{
 "cells": [
  {
   "cell_type": "code",
   "execution_count": 3,
   "metadata": {},
   "outputs": [
    {
     "data": {
      "text/plain": [
       "'NB_epoch=20\\nbatch_size=128\\nverbose==1\\nNbclasses=10'"
      ]
     },
     "execution_count": 3,
     "metadata": {},
     "output_type": "execute_result"
    }
   ],
   "source": [
    "from __future__ import print_function \n",
    "import numpy as np\n",
    "from keras.datasets import mnist\n",
    "from keras.models import Sequential \n",
    "from keras.layers.core import Dense, Activation\n",
    "from keras.optimizers import SGD\n",
    "from keras.utils import np_utils\n",
    "np.random.seed(42)\n",
    "\"\"\"NB_epoch=20\n",
    "batch_size=128\n",
    "verbose==1\n",
    "Nbclasses=10\n",
    "optimizer=SGD()\n",
    "N_HIDDEN=128\n",
    "vs=0.2\"\"\"\n",
    "\n"
   ]
  },
  {
   "cell_type": "code",
   "execution_count": 5,
   "metadata": {},
   "outputs": [
    {
     "name": "stdout",
     "output_type": "stream",
     "text": [
      "60000\n",
      "10000\n"
     ]
    }
   ],
   "source": [
    "(X_train,y_train),(X_test,y_test)=mnist.load_data()\n",
    "X_train=X_train.reshape(60000,784).astype('float32')/255\n",
    "X_test=X_test.reshape(10000,784).astype('float32')/255\n",
    "print(X_train.shape[0])\n",
    "print(X_test.shape[0])\n"
   ]
  },
  {
   "cell_type": "code",
   "execution_count": 11,
   "metadata": {},
   "outputs": [],
   "source": [
    "Y_train=np_utils.to_categorical(y_train,10)\n",
    "Y_test=np_utils.to_categorical(y_test,10)"
   ]
  },
  {
   "cell_type": "code",
   "execution_count": 20,
   "metadata": {},
   "outputs": [
    {
     "name": "stdout",
     "output_type": "stream",
     "text": [
      "_________________________________________________________________\n",
      "Layer (type)                 Output Shape              Param #   \n",
      "=================================================================\n",
      "dense_6 (Dense)              (None, 128)               100480    \n",
      "_________________________________________________________________\n",
      "dense_7 (Dense)              (None, 128)               16512     \n",
      "_________________________________________________________________\n",
      "dense_8 (Dense)              (None, 10)                1290      \n",
      "=================================================================\n",
      "Total params: 118,282\n",
      "Trainable params: 118,282\n",
      "Non-trainable params: 0\n",
      "_________________________________________________________________\n"
     ]
    }
   ],
   "source": [
    "model=Sequential()\n",
    "model.add(Dense(128,input_shape=(784, ), activation='relu'))\n",
    "model.add(Dense(128,activation='relu'))\n",
    "model.add(Dense(10,activation='softmax'))\n",
    "model.summary()"
   ]
  },
  {
   "cell_type": "code",
   "execution_count": 21,
   "metadata": {},
   "outputs": [],
   "source": [
    "model.compile(loss='categorical_crossentropy',\n",
    "             optimizer=SGD(),\n",
    "             metrics=['accuracy'])\n"
   ]
  },
  {
   "cell_type": "code",
   "execution_count": 22,
   "metadata": {},
   "outputs": [
    {
     "name": "stdout",
     "output_type": "stream",
     "text": [
      "WARNING:tensorflow:From C:\\Users\\sundoz\\Anaconda3\\lib\\site-packages\\tensorflow\\python\\ops\\math_ops.py:3066: to_int32 (from tensorflow.python.ops.math_ops) is deprecated and will be removed in a future version.\n",
      "Instructions for updating:\n",
      "Use tf.cast instead.\n",
      "Train on 48000 samples, validate on 12000 samples\n",
      "Epoch 1/20\n",
      "48000/48000 [==============================] - 2s 42us/step - loss: 1.4366 - acc: 0.6563 - val_loss: 0.7192 - val_acc: 0.8402\n",
      "Epoch 2/20\n",
      "48000/48000 [==============================] - 2s 32us/step - loss: 0.5831 - acc: 0.8546 - val_loss: 0.4457 - val_acc: 0.8846\n",
      "Epoch 3/20\n",
      "48000/48000 [==============================] - 2s 32us/step - loss: 0.4356 - acc: 0.8819 - val_loss: 0.3702 - val_acc: 0.9003\n",
      "Epoch 4/20\n",
      "48000/48000 [==============================] - 2s 34us/step - loss: 0.3802 - acc: 0.8938 - val_loss: 0.3341 - val_acc: 0.9071\n",
      "Epoch 5/20\n",
      "48000/48000 [==============================] - 2s 34us/step - loss: 0.3487 - acc: 0.9014 - val_loss: 0.3117 - val_acc: 0.9112\n",
      "Epoch 6/20\n",
      "48000/48000 [==============================] - 2s 35us/step - loss: 0.3274 - acc: 0.9067 - val_loss: 0.2971 - val_acc: 0.9141\n",
      "Epoch 7/20\n",
      "48000/48000 [==============================] - 2s 33us/step - loss: 0.3102 - acc: 0.9109 - val_loss: 0.2854 - val_acc: 0.9182\n",
      "Epoch 8/20\n",
      "48000/48000 [==============================] - 2s 33us/step - loss: 0.2966 - acc: 0.9147 - val_loss: 0.2728 - val_acc: 0.9224\n",
      "Epoch 9/20\n",
      "48000/48000 [==============================] - 2s 35us/step - loss: 0.2846 - acc: 0.9182 - val_loss: 0.2629 - val_acc: 0.9253\n",
      "Epoch 10/20\n",
      "48000/48000 [==============================] - 2s 33us/step - loss: 0.2738 - acc: 0.9215 - val_loss: 0.2557 - val_acc: 0.9281\n",
      "Epoch 11/20\n",
      "48000/48000 [==============================] - 2s 32us/step - loss: 0.2641 - acc: 0.9244 - val_loss: 0.2496 - val_acc: 0.9304\n",
      "Epoch 12/20\n",
      "48000/48000 [==============================] - 2s 36us/step - loss: 0.2552 - acc: 0.9276 - val_loss: 0.2397 - val_acc: 0.9334\n",
      "Epoch 13/20\n",
      "48000/48000 [==============================] - 2s 35us/step - loss: 0.2472 - acc: 0.9295 - val_loss: 0.2331 - val_acc: 0.9352\n",
      "Epoch 14/20\n",
      "48000/48000 [==============================] - 2s 38us/step - loss: 0.2394 - acc: 0.9316 - val_loss: 0.2280 - val_acc: 0.9368\n",
      "Epoch 15/20\n",
      "48000/48000 [==============================] - 2s 37us/step - loss: 0.2321 - acc: 0.9341 - val_loss: 0.2206 - val_acc: 0.9387\n",
      "Epoch 16/20\n",
      "48000/48000 [==============================] - 2s 41us/step - loss: 0.2250 - acc: 0.9364 - val_loss: 0.2157 - val_acc: 0.9396\n",
      "Epoch 17/20\n",
      "48000/48000 [==============================] - 2s 35us/step - loss: 0.2185 - acc: 0.9385 - val_loss: 0.2098 - val_acc: 0.9423\n",
      "Epoch 18/20\n",
      "48000/48000 [==============================] - 2s 34us/step - loss: 0.2120 - acc: 0.9395 - val_loss: 0.2047 - val_acc: 0.9431\n",
      "Epoch 19/20\n",
      "48000/48000 [==============================] - 2s 34us/step - loss: 0.2064 - acc: 0.9414 - val_loss: 0.2009 - val_acc: 0.9442\n",
      "Epoch 20/20\n",
      "48000/48000 [==============================] - 2s 34us/step - loss: 0.2005 - acc: 0.9432 - val_loss: 0.1955 - val_acc: 0.9462\n"
     ]
    },
    {
     "data": {
      "text/plain": [
       "<keras.callbacks.History at 0x208b7a8acc0>"
      ]
     },
     "execution_count": 22,
     "metadata": {},
     "output_type": "execute_result"
    }
   ],
   "source": [
    "model.fit(X_train,Y_train,\n",
    "         batch_size=128,epochs=20,\n",
    "         verbose=1, validation_split=0.2)\n"
   ]
  },
  {
   "cell_type": "code",
   "execution_count": 24,
   "metadata": {},
   "outputs": [
    {
     "name": "stdout",
     "output_type": "stream",
     "text": [
      "10000/10000 [==============================] - 0s 31us/step\n"
     ]
    },
    {
     "data": {
      "text/plain": [
       "[0.19975470214039087, 0.9408]"
      ]
     },
     "execution_count": 24,
     "metadata": {},
     "output_type": "execute_result"
    }
   ],
   "source": [
    "model.evaluate(X_test,Y_test, verbose=1)"
   ]
  },
  {
   "cell_type": "code",
   "execution_count": null,
   "metadata": {},
   "outputs": [],
   "source": []
  }
 ],
 "metadata": {
  "kernelspec": {
   "display_name": "Python 3",
   "language": "python",
   "name": "python3"
  },
  "language_info": {
   "codemirror_mode": {
    "name": "ipython",
    "version": 3
   },
   "file_extension": ".py",
   "mimetype": "text/x-python",
   "name": "python",
   "nbconvert_exporter": "python",
   "pygments_lexer": "ipython3",
   "version": "3.6.8"
  }
 },
 "nbformat": 4,
 "nbformat_minor": 2
}
