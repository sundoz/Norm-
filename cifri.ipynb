{
 "cells": [
  {
   "cell_type": "code",
   "execution_count": 4,
   "metadata": {},
   "outputs": [
    {
     "name": "stdout",
     "output_type": "stream",
     "text": [
      "WARNING:tensorflow:From C:\\Users\\sundoz\\Anaconda3\\lib\\site-packages\\tensorflow\\python\\framework\\op_def_library.py:263: colocate_with (from tensorflow.python.framework.ops) is deprecated and will be removed in a future version.\n",
      "Instructions for updating:\n",
      "Colocations handled automatically by placer.\n"
     ]
    }
   ],
   "source": [
    "from __future__ import print_function\n",
    "import numpy as np\n",
    "from keras.datasets import mnist\n",
    "from keras.models import Sequential\n",
    "from keras.layers.core import Dense, Activation\n",
    "from keras.optimizers import SGD\n",
    "from keras.utils import np_utils\n",
    "np.random.seed(42)\n",
    "nb_ep=200\n",
    "batch_size=128\n",
    "verbose=1\n",
    "nb_classes=10\n",
    "opt=SGD()\n",
    "n_hidden=128\n",
    "val_split=0.2\n",
    "\n",
    "\n"
   ]
  },
  {
   "cell_type": "code",
   "execution_count": 7,
   "metadata": {},
   "outputs": [],
   "source": [
    "(X_train,y_train),(X_test,y_test)=mnist.load_data()\n",
    "X_train=X_train.reshape(60000,784)\n",
    "X_test=X_test.reshape(10000,784)\n",
    "X_train=X_train.astype('float32')\n",
    "X_test=X_test.astype('float32')\n"
   ]
  },
  {
   "cell_type": "code",
   "execution_count": 14,
   "metadata": {},
   "outputs": [],
   "source": [
    "X_train/=255\n",
    "X_test/=255"
   ]
  },
  {
   "cell_type": "code",
   "execution_count": 15,
   "metadata": {},
   "outputs": [
    {
     "name": "stdout",
     "output_type": "stream",
     "text": [
      "60000 train samples\n",
      "10000 test samples\n"
     ]
    }
   ],
   "source": [
    "print(X_train.shape[0],'train samples')\n",
    "print(X_test.shape[0],'test samples')\n"
   ]
  },
  {
   "cell_type": "code",
   "execution_count": 18,
   "metadata": {},
   "outputs": [],
   "source": [
    "y_train=np_utils.to_categorical(y_train, nb_classes)\n",
    "y_test=np_utils.to_categorical(y_train, nb_classes)\n"
   ]
  },
  {
   "cell_type": "code",
   "execution_count": 22,
   "metadata": {},
   "outputs": [
    {
     "name": "stdout",
     "output_type": "stream",
     "text": [
      "_________________________________________________________________\n",
      "Layer (type)                 Output Shape              Param #   \n",
      "=================================================================\n",
      "dense_3 (Dense)              (None, 10)                7850      \n",
      "_________________________________________________________________\n",
      "activation_3 (Activation)    (None, 10)                0         \n",
      "=================================================================\n",
      "Total params: 7,850\n",
      "Trainable params: 7,850\n",
      "Non-trainable params: 0\n",
      "_________________________________________________________________\n"
     ]
    }
   ],
   "source": [
    "model= Sequential()\n",
    "model.add(Dense(10,input_shape=(784,)))\n",
    "model.add(Activation('softmax'))\n",
    "model.summary()\n"
   ]
  },
  {
   "cell_type": "code",
   "execution_count": null,
   "metadata": {},
   "outputs": [
    {
     "name": "stdout",
     "output_type": "stream",
     "text": [
      "Train on 48000 samples, validate on 12000 samples\n",
      "Epoch 1/30\n",
      "48000/48000 [==============================] - 1s 25us/step - loss: 0.2593 - acc: 0.9277 - val_loss: 0.2675 - val_acc: 0.9267\n",
      "Epoch 2/30\n",
      "48000/48000 [==============================] - 1s 18us/step - loss: 0.2592 - acc: 0.9277 - val_loss: 0.2675 - val_acc: 0.9263\n",
      "Epoch 3/30\n",
      "48000/48000 [==============================] - 1s 17us/step - loss: 0.2592 - acc: 0.9278 - val_loss: 0.2675 - val_acc: 0.9263\n",
      "Epoch 4/30\n",
      "48000/48000 [==============================] - 1s 17us/step - loss: 0.2591 - acc: 0.9278 - val_loss: 0.2676 - val_acc: 0.9265\n",
      "Epoch 5/30\n",
      "48000/48000 [==============================] - 1s 17us/step - loss: 0.2591 - acc: 0.9276 - val_loss: 0.2675 - val_acc: 0.9265\n",
      "Epoch 6/30\n",
      "48000/48000 [==============================] - 1s 18us/step - loss: 0.2591 - acc: 0.9277 - val_loss: 0.2674 - val_acc: 0.9268\n",
      "Epoch 7/30\n",
      "48000/48000 [==============================] - 1s 18us/step - loss: 0.2590 - acc: 0.9279 - val_loss: 0.2674 - val_acc: 0.9265\n",
      "Epoch 8/30\n",
      "48000/48000 [==============================] - 1s 18us/step - loss: 0.2590 - acc: 0.9279 - val_loss: 0.2675 - val_acc: 0.9267\n",
      "Epoch 9/30\n",
      "21504/48000 [============>.................] - ETA: 0s - loss: 0.2592 - acc: 0.9272"
     ]
    }
   ],
   "source": [
    "model.compile(loss='categorical_crossentropy',\n",
    "              optimizer=SGD(),\n",
    "              metrics=['accuracy'])\n",
    "history=model.fit(X_train,y_train,\n",
    "         batch_size=128, epochs=30,\n",
    "         verbose=1,validation_split=0.2)"
   ]
  },
  {
   "cell_type": "code",
   "execution_count": null,
   "metadata": {},
   "outputs": [],
   "source": [
    "model.evaluate(X_test,y_test)\n"
   ]
  },
  {
   "cell_type": "code",
   "execution_count": null,
   "metadata": {},
   "outputs": [],
   "source": []
  }
 ],
 "metadata": {
  "kernelspec": {
   "display_name": "Python 3",
   "language": "python",
   "name": "python3"
  },
  "language_info": {
   "codemirror_mode": {
    "name": "ipython",
    "version": 3
   },
   "file_extension": ".py",
   "mimetype": "text/x-python",
   "name": "python",
   "nbconvert_exporter": "python",
   "pygments_lexer": "ipython3",
   "version": "3.6.8"
  }
 },
 "nbformat": 4,
 "nbformat_minor": 2
}
