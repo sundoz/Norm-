{
 "cells": [
  {
   "cell_type": "code",
   "execution_count": 28,
   "metadata": {},
   "outputs": [
    {
     "name": "stdout",
     "output_type": "stream",
     "text": [
      "5\n",
      "1 2 3 4 5 \n",
      "16 17 18 19 6 \n",
      "15 24 25 20 7 \n",
      "14 23 22 21 8 \n",
      "13 12 11 10 9 \n"
     ]
    }
   ],
   "source": [
    "a= int(input())\n",
    "b=[[0 for i in range(a)] for j in range(a)]\n",
    "i=1\n",
    "q1=0\n",
    "x=0\n",
    "y=0\n",
    "b[0][0]=1\n",
    "for i in range(1,a):\n",
    "    y+=1\n",
    "    b[x][y]=i+1\n",
    "i+=2\n",
    "while i<a**2:\n",
    "    \n",
    "    for j in range(a-1-q1):\n",
    "        \n",
    "        if i<=a**2:\n",
    "            x+=1\n",
    "            b[x][y]=i\n",
    "    \n",
    "            i+=1\n",
    "    for j in range(a-1-q1):\n",
    "        if i<=a**2:\n",
    "            y-=1\n",
    "            b[x][y]=i\n",
    "            i+=1\n",
    "            \n",
    "    \n",
    "    for j in range(a-q1-2):\n",
    "        if i<=a**2:\n",
    "            x-=1\n",
    "            b[x][y]=i\n",
    "            i+=1\n",
    "            \n",
    "    \n",
    "    for j in range(a-q1-2):\n",
    "        if i<=a**2:\n",
    "            y+=1\n",
    "            b[x][y]=i\n",
    "            i+=1\n",
    "            \n",
    "         \n",
    "    \n",
    "    q1+=2\n",
    "        \n",
    "\n",
    "for i in range(a):\n",
    "    for j in range(a):\n",
    "        print(b[i][j],end=' ')\n",
    "    print()\n",
    "    "
   ]
  },
  {
   "cell_type": "code",
   "execution_count": null,
   "metadata": {},
   "outputs": [],
   "source": []
  }
 ],
 "metadata": {
  "kernelspec": {
   "display_name": "Python 3",
   "language": "python",
   "name": "python3"
  }
 },
 "nbformat": 4,
 "nbformat_minor": 2
}
