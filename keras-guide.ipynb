{
 "cells": [
  {
   "cell_type": "code",
   "execution_count": 15,
   "metadata": {},
   "outputs": [],
   "source": [
    "import numpy as np\n",
    "\n",
    "from keras.models import Sequential\n",
    "from keras.layers import Dense\n",
    "\n",
    "from keras.datasets import fashion_mnist\n",
    "\n",
    "from keras.utils import np_utils"
   ]
  },
  {
   "cell_type": "code",
   "execution_count": 11,
   "metadata": {},
   "outputs": [],
   "source": [
    "(X_train, y_train), (X_test, y_test) = fashion_mnist.load_data()  # shape = (samples, ...) -> (60000, 28, 28)\n",
    "\n",
    "\n",
    "X_train = X_train.reshape(60000, 784).astype('float32') / 255\n",
    "X_test = X_test.reshape(10000, 784).astype('float32') / 255"
   ]
  },
  {
   "cell_type": "code",
   "execution_count": 16,
   "metadata": {},
   "outputs": [],
   "source": [
    "y_train = np_utils.to_categorical(y_train, 10)\n",
    "y_test = np_utils.to_categorical(y_test, 10)\n",
    "# (0, 0, 0, 0, 1, 0, 0) - one hot encoder "
   ]
  },
  {
   "cell_type": "code",
   "execution_count": 40,
   "metadata": {},
   "outputs": [],
   "source": [
    "model = Sequential()\n",
    "\n",
    "#model.add(Dense(128, input_shape=(784, ), activation='relu'))\n",
    "#model.add(Dense(256, input_shape=(784, ), activation='relu'))\n",
    "model.add(Dense(10, input_shape=(784, ), activation='softmax'))\n",
    "\n",
    "model.compile(loss='categorical_crossentropy', optimizer='adam', metrics=['accuracy'])\n"
   ]
  },
  {
   "cell_type": "code",
   "execution_count": 42,
   "metadata": {},
   "outputs": [
    {
     "name": "stdout",
     "output_type": "stream",
     "text": [
      "Train on 48000 samples, validate on 12000 samples\n",
      "Epoch 1/50\n",
      "48000/48000 [==============================] - 2s 40us/step - loss: 0.7867 - acc: 0.7416 - val_loss: 0.5740 - val_acc: 0.8043\n",
      "Epoch 2/50\n",
      "48000/48000 [==============================] - 1s 27us/step - loss: 0.5371 - acc: 0.8200 - val_loss: 0.5107 - val_acc: 0.8291\n",
      "Epoch 3/50\n",
      "48000/48000 [==============================] - 1s 26us/step - loss: 0.4903 - acc: 0.8354 - val_loss: 0.4791 - val_acc: 0.8379\n",
      "Epoch 4/50\n",
      "48000/48000 [==============================] - 1s 29us/step - loss: 0.4643 - acc: 0.8432 - val_loss: 0.4699 - val_acc: 0.8385\n",
      "Epoch 5/50\n",
      "48000/48000 [==============================] - 1s 28us/step - loss: 0.4492 - acc: 0.8481 - val_loss: 0.4514 - val_acc: 0.8472\n",
      "Epoch 6/50\n",
      "48000/48000 [==============================] - 1s 29us/step - loss: 0.4374 - acc: 0.8506 - val_loss: 0.4420 - val_acc: 0.8493\n",
      "Epoch 7/50\n",
      "48000/48000 [==============================] - 1s 25us/step - loss: 0.4302 - acc: 0.8523 - val_loss: 0.4361 - val_acc: 0.8512\n",
      "Epoch 8/50\n",
      "48000/48000 [==============================] - 1s 27us/step - loss: 0.4212 - acc: 0.8569 - val_loss: 0.4304 - val_acc: 0.8517\n",
      "Epoch 9/50\n",
      "48000/48000 [==============================] - 2s 32us/step - loss: 0.4166 - acc: 0.8578 - val_loss: 0.4265 - val_acc: 0.8548\n",
      "Epoch 10/50\n",
      "48000/48000 [==============================] - 1s 29us/step - loss: 0.4114 - acc: 0.8590 - val_loss: 0.4297 - val_acc: 0.8527\n",
      "Epoch 11/50\n",
      "48000/48000 [==============================] - 2s 32us/step - loss: 0.4074 - acc: 0.8598 - val_loss: 0.4372 - val_acc: 0.8465\n",
      "Epoch 12/50\n",
      "48000/48000 [==============================] - 2s 38us/step - loss: 0.4037 - acc: 0.8615 - val_loss: 0.4193 - val_acc: 0.8568\n",
      "Epoch 13/50\n",
      "48000/48000 [==============================] - 2s 34us/step - loss: 0.4006 - acc: 0.8622 - val_loss: 0.4228 - val_acc: 0.8563\n",
      "Epoch 14/50\n",
      "48000/48000 [==============================] - 2s 33us/step - loss: 0.3980 - acc: 0.8624 - val_loss: 0.4203 - val_acc: 0.8558\n",
      "Epoch 15/50\n",
      "48000/48000 [==============================] - 2s 36us/step - loss: 0.3952 - acc: 0.8637 - val_loss: 0.4190 - val_acc: 0.8538\n",
      "Epoch 16/50\n",
      "48000/48000 [==============================] - 2s 34us/step - loss: 0.3942 - acc: 0.8639 - val_loss: 0.4149 - val_acc: 0.8574\n",
      "Epoch 17/50\n",
      "48000/48000 [==============================] - 2s 46us/step - loss: 0.3911 - acc: 0.8647 - val_loss: 0.4144 - val_acc: 0.8573\n",
      "Epoch 18/50\n",
      "48000/48000 [==============================] - 2s 50us/step - loss: 0.3893 - acc: 0.8643 - val_loss: 0.4159 - val_acc: 0.8563\n",
      "Epoch 19/50\n",
      "48000/48000 [==============================] - 2s 40us/step - loss: 0.3878 - acc: 0.8656 - val_loss: 0.4166 - val_acc: 0.8563\n",
      "Epoch 20/50\n",
      "48000/48000 [==============================] - 2s 34us/step - loss: 0.3854 - acc: 0.8675 - val_loss: 0.4222 - val_acc: 0.8558\n",
      "Epoch 21/50\n",
      "48000/48000 [==============================] - 2s 33us/step - loss: 0.3839 - acc: 0.8666 - val_loss: 0.4111 - val_acc: 0.8564\n",
      "Epoch 22/50\n",
      "48000/48000 [==============================] - 2s 31us/step - loss: 0.3823 - acc: 0.8682 - val_loss: 0.4106 - val_acc: 0.8576\n",
      "Epoch 23/50\n",
      "48000/48000 [==============================] - 2s 32us/step - loss: 0.3800 - acc: 0.8681 - val_loss: 0.4134 - val_acc: 0.8582\n",
      "Epoch 24/50\n",
      "48000/48000 [==============================] - 1s 31us/step - loss: 0.3794 - acc: 0.8687 - val_loss: 0.4118 - val_acc: 0.8567\n",
      "Epoch 25/50\n",
      "48000/48000 [==============================] - 1s 29us/step - loss: 0.3787 - acc: 0.8682 - val_loss: 0.4130 - val_acc: 0.8554\n",
      "Epoch 26/50\n",
      "48000/48000 [==============================] - 1s 28us/step - loss: 0.3777 - acc: 0.8690 - val_loss: 0.4092 - val_acc: 0.8581\n",
      "Epoch 27/50\n",
      "48000/48000 [==============================] - 2s 31us/step - loss: 0.3765 - acc: 0.8695 - val_loss: 0.4090 - val_acc: 0.8582\n",
      "Epoch 28/50\n",
      "48000/48000 [==============================] - 1s 30us/step - loss: 0.3770 - acc: 0.8686 - val_loss: 0.4086 - val_acc: 0.8584\n",
      "Epoch 29/50\n",
      "48000/48000 [==============================] - 1s 29us/step - loss: 0.3729 - acc: 0.8703 - val_loss: 0.4082 - val_acc: 0.8580\n",
      "Epoch 30/50\n",
      "48000/48000 [==============================] - 2s 33us/step - loss: 0.3727 - acc: 0.8706 - val_loss: 0.4092 - val_acc: 0.8580\n",
      "Epoch 31/50\n",
      "48000/48000 [==============================] - 2s 31us/step - loss: 0.3721 - acc: 0.8709 - val_loss: 0.4078 - val_acc: 0.8601\n",
      "Epoch 32/50\n",
      "48000/48000 [==============================] - 1s 29us/step - loss: 0.3711 - acc: 0.8701 - val_loss: 0.4111 - val_acc: 0.8592\n",
      "Epoch 33/50\n",
      "48000/48000 [==============================] - 1s 30us/step - loss: 0.3708 - acc: 0.8710 - val_loss: 0.4109 - val_acc: 0.8584\n",
      "Epoch 34/50\n",
      "48000/48000 [==============================] - 1s 30us/step - loss: 0.3703 - acc: 0.8695 - val_loss: 0.4112 - val_acc: 0.8580\n",
      "Epoch 35/50\n",
      "48000/48000 [==============================] - 1s 30us/step - loss: 0.3693 - acc: 0.8718 - val_loss: 0.4065 - val_acc: 0.8611\n",
      "Epoch 36/50\n",
      "48000/48000 [==============================] - 1s 28us/step - loss: 0.3689 - acc: 0.8708 - val_loss: 0.4117 - val_acc: 0.8581\n",
      "Epoch 37/50\n",
      "48000/48000 [==============================] - 1s 30us/step - loss: 0.3668 - acc: 0.8717 - val_loss: 0.4145 - val_acc: 0.8548\n",
      "Epoch 38/50\n",
      "48000/48000 [==============================] - 2s 32us/step - loss: 0.3668 - acc: 0.8719 - val_loss: 0.4102 - val_acc: 0.8582\n",
      "Epoch 39/50\n",
      "48000/48000 [==============================] - 2s 34us/step - loss: 0.3669 - acc: 0.8716 - val_loss: 0.4066 - val_acc: 0.8599\n",
      "Epoch 40/50\n",
      "48000/48000 [==============================] - 2s 38us/step - loss: 0.3657 - acc: 0.8713 - val_loss: 0.4081 - val_acc: 0.8593\n",
      "Epoch 41/50\n",
      "48000/48000 [==============================] - 2s 36us/step - loss: 0.3646 - acc: 0.8728 - val_loss: 0.4118 - val_acc: 0.8573\n",
      "Epoch 42/50\n",
      "48000/48000 [==============================] - 2s 35us/step - loss: 0.3646 - acc: 0.8725 - val_loss: 0.4079 - val_acc: 0.8602\n",
      "Epoch 43/50\n",
      "48000/48000 [==============================] - 2s 37us/step - loss: 0.3656 - acc: 0.8717 - val_loss: 0.4121 - val_acc: 0.8589\n",
      "Epoch 44/50\n",
      "48000/48000 [==============================] - 2s 39us/step - loss: 0.3630 - acc: 0.8730 - val_loss: 0.4084 - val_acc: 0.8596\n",
      "Epoch 45/50\n",
      "48000/48000 [==============================] - 2s 40us/step - loss: 0.3635 - acc: 0.8728 - val_loss: 0.4089 - val_acc: 0.8596\n",
      "Epoch 46/50\n",
      "48000/48000 [==============================] - 1s 29us/step - loss: 0.3612 - acc: 0.8728 - val_loss: 0.4113 - val_acc: 0.8581\n",
      "Epoch 47/50\n",
      "48000/48000 [==============================] - 2s 32us/step - loss: 0.3622 - acc: 0.8734 - val_loss: 0.4109 - val_acc: 0.8601\n",
      "Epoch 48/50\n",
      "48000/48000 [==============================] - 1s 29us/step - loss: 0.3615 - acc: 0.8725 - val_loss: 0.4116 - val_acc: 0.8599\n",
      "Epoch 49/50\n",
      "48000/48000 [==============================] - 2s 31us/step - loss: 0.3619 - acc: 0.8739 - val_loss: 0.4203 - val_acc: 0.8541\n",
      "Epoch 50/50\n",
      "48000/48000 [==============================] - 2s 31us/step - loss: 0.3595 - acc: 0.8733 - val_loss: 0.4102 - val_acc: 0.8597\n"
     ]
    }
   ],
   "source": [
    "history = model.fit(X_train, y_train, batch_size=128, epochs=50, verbose=1, validation_split=0.2)"
   ]
  },
  {
   "cell_type": "code",
   "execution_count": 43,
   "metadata": {},
   "outputs": [
    {
     "name": "stdout",
     "output_type": "stream",
     "text": [
      "10000/10000 [==============================] - 0s 29us/step\n"
     ]
    },
    {
     "data": {
      "text/plain": [
       "[0.4417081566810608, 0.848]"
      ]
     },
     "execution_count": 43,
     "metadata": {},
     "output_type": "execute_result"
    }
   ],
   "source": [
    "model.evaluate(X_test, y_test)"
   ]
  },
  {
   "cell_type": "markdown",
   "metadata": {},
   "source": [
    "# overfitting\n",
    " - высокая точность на тренировочном мн-ве\n",
    " - низакая на валидационное \n",
    "\n",
    "# underfitting\n",
    " - точность на валидационное выше чем на тренировочном \n",
    "\n",
    "\n",
    "# fine-tuning\n",
    "    -меняем параметры обучения для достижения лучшей точности "
   ]
  },
  {
   "cell_type": "code",
   "execution_count": 44,
   "metadata": {},
   "outputs": [
    {
     "name": "stdout",
     "output_type": "stream",
     "text": [
      "_________________________________________________________________\n",
      "Layer (type)                 Output Shape              Param #   \n",
      "=================================================================\n",
      "dense_12 (Dense)             (None, 10)                7850      \n",
      "=================================================================\n",
      "Total params: 7,850\n",
      "Trainable params: 7,850\n",
      "Non-trainable params: 0\n",
      "_________________________________________________________________\n"
     ]
    }
   ],
   "source": [
    "model.summary()"
   ]
  },
  {
   "cell_type": "code",
   "execution_count": 45,
   "metadata": {},
   "outputs": [],
   "source": [
    "y_pred = model.predict(X_test)"
   ]
  },
  {
   "cell_type": "code",
   "execution_count": null,
   "metadata": {},
   "outputs": [],
   "source": []
  }
 ],
 "metadata": {
  "kernelspec": {
   "display_name": "Python 3",
   "language": "python",
   "name": "python3"
  },
  "language_info": {
   "codemirror_mode": {
    "name": "ipython",
    "version": 3
   },
   "file_extension": ".py",
   "mimetype": "text/x-python",
   "name": "python",
   "nbconvert_exporter": "python",
   "pygments_lexer": "ipython3",
   "version": "3.6.6"
  }
 },
 "nbformat": 4,
 "nbformat_minor": 2
}
