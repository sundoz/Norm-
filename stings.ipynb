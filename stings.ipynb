{
 "cells": [
  {
   "cell_type": "markdown",
   "metadata": {},
   "source": [
    "# процент букв g и с в строке\n",
    "a=input()\n",
    "a=a.upper()\n",
    "c=a.count('G')\n",
    "b=a.count('C')\n",
    "ln=len(a)\n",
    "print((c+b)/ln*100)"
   ]
  },
  {
   "cell_type": "code",
   "execution_count": 7,
   "metadata": {},
   "outputs": [
    {
     "name": "stdout",
     "output_type": "stream",
     "text": [
      "def\n",
      "abcdef\n",
      "defghijk\n",
      "kjihgfedcba\n",
      "ijk\n",
      "abcde\n",
      "kigec\n"
     ]
    }
   ],
   "source": [
    "s = 'abcdefghijk'\n",
    "print(s[3:6])\n",
    "print(s[:6])\n",
    "print(s[3:])\n",
    "print(s[::-1])\n",
    "print(s[-3:])\n",
    "print(s[:-6])\n",
    "print(s[-1:-10:-2])"
   ]
  },
  {
   "cell_type": "code",
   "execution_count": 21,
   "metadata": {},
   "outputs": [
    {
     "name": "stdout",
     "output_type": "stream",
     "text": [
      "qqqwwwee\n",
      "q3w3e2\n"
     ]
    }
   ],
   "source": [
    "#s = 'aaaabbсaa' преобразуется в 'a4b2с1a2'\n",
    "s= input()\n",
    "z=''\n",
    "s1=s[0]\n",
    "nu=1\n",
    "i=1\n",
    "\n",
    "while i<len(s):\n",
    "    if s[i]==s[i-1]:\n",
    "        nu+=1\n",
    "    else:\n",
    "        s1+=str(nu)\n",
    "        s1+=s[i]\n",
    "        nu=1\n",
    "    i+=1\n",
    "s1+=str(nu)   \n",
    "print(s1)\n",
    "    "
   ]
  },
  {
   "cell_type": "code",
   "execution_count": 22,
   "metadata": {},
   "outputs": [
    {
     "name": "stdout",
     "output_type": "stream",
     "text": [
      "['Ivan', 'Masha', 'Sasha', 'Olga', 'O', 'l', 'g', 'a']\n"
     ]
    }
   ],
   "source": [
    "#просто проверяю\n",
    "students = ['Ivan', 'Masha', 'Sasha']\n",
    "students += ['Olga']\n",
    "students += 'Olga'\n",
    "print(students)"
   ]
  },
  {
   "cell_type": "code",
   "execution_count": null,
   "metadata": {},
   "outputs": [],
   "source": []
  }
 ],
 "metadata": {
  "kernelspec": {
   "display_name": "Python 3",
   "language": "python",
   "name": "python3"
  },
  "language_info": {
   "codemirror_mode": {
    "name": "ipython",
    "version": 3
   },
   "file_extension": ".py",
   "mimetype": "text/x-python",
   "name": "python",
   "nbconvert_exporter": "python",
   "pygments_lexer": "ipython3",
   "version": "3.7.1"
  }
 },
 "nbformat": 4,
 "nbformat_minor": 2
}
