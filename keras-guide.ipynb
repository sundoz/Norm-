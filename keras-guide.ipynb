{
 "cells": [
  {
   "cell_type": "code",
   "execution_count": 1,
   "metadata": {},
   "outputs": [
    {
     "name": "stderr",
     "output_type": "stream",
     "text": [
      "Using TensorFlow backend.\n"
     ]
    }
   ],
   "source": [
    "import numpy as np\n",
    "\n",
    "from keras.models import Sequential\n",
    "from keras.layers import Dense\n",
    "\n",
    "from keras.datasets import fashion_mnist\n",
    "\n",
    "from keras.utils import np_utils"
   ]
  },
  {
   "cell_type": "code",
   "execution_count": 2,
   "metadata": {},
   "outputs": [],
   "source": [
    "(X_train, y_train), (X_test, y_test) = fashion_mnist.load_data()  # shape = (samples, ...) -> (60000, 28, 28)\n",
    "\n",
    "\n",
    "X_train = X_train.reshape(60000, 784).astype('float32') / 255\n",
    "X_test = X_test.reshape(10000, 784).astype('float32') / 255"
   ]
  },
  {
   "cell_type": "code",
   "execution_count": 3,
   "metadata": {},
   "outputs": [],
   "source": [
    "y_train = np_utils.to_categorical(y_train, 10)\n",
    "y_test = np_utils.to_categorical(y_test, 10)\n",
    "# (0, 0, 0, 0, 1, 0, 0) - one hot encoder "
   ]
  },
  {
   "cell_type": "code",
   "execution_count": 4,
   "metadata": {},
   "outputs": [
    {
     "name": "stdout",
     "output_type": "stream",
     "text": [
      "WARNING:tensorflow:From C:\\Users\\sundoz\\Anaconda3\\lib\\site-packages\\tensorflow\\python\\framework\\op_def_library.py:263: colocate_with (from tensorflow.python.framework.ops) is deprecated and will be removed in a future version.\n",
      "Instructions for updating:\n",
      "Colocations handled automatically by placer.\n"
     ]
    }
   ],
   "source": [
    "model = Sequential()\n",
    "\n",
    "#model.add(Dense(128, input_shape=(784, ), activation='relu'))\n",
    "#model.add(Dense(256, input_shape=(784, ), activation='relu'))\n",
    "model.add(Dense(10, input_shape=(784, ), activation='softmax'))\n",
    "\n",
    "model.compile(loss='categorical_crossentropy', optimizer='adam', metrics=['accuracy'])\n"
   ]
  },
  {
   "cell_type": "code",
   "execution_count": 5,
   "metadata": {},
   "outputs": [
    {
     "name": "stdout",
     "output_type": "stream",
     "text": [
      "WARNING:tensorflow:From C:\\Users\\sundoz\\Anaconda3\\lib\\site-packages\\tensorflow\\python\\ops\\math_ops.py:3066: to_int32 (from tensorflow.python.ops.math_ops) is deprecated and will be removed in a future version.\n",
      "Instructions for updating:\n",
      "Use tf.cast instead.\n",
      "Train on 48000 samples, validate on 12000 samples\n",
      "Epoch 1/50\n",
      "48000/48000 [==============================] - 1s 31us/step - loss: 0.7914 - acc: 0.7419 - val_loss: 0.5764 - val_acc: 0.8107\n",
      "Epoch 2/50\n",
      "48000/48000 [==============================] - 1s 19us/step - loss: 0.5369 - acc: 0.8219 - val_loss: 0.5077 - val_acc: 0.8292\n",
      "Epoch 3/50\n",
      "48000/48000 [==============================] - 1s 20us/step - loss: 0.4889 - acc: 0.8363 - val_loss: 0.4774 - val_acc: 0.8390\n",
      "Epoch 4/50\n",
      "48000/48000 [==============================] - 1s 19us/step - loss: 0.4634 - acc: 0.8433 - val_loss: 0.4642 - val_acc: 0.8397\n",
      "Epoch 5/50\n",
      "48000/48000 [==============================] - 1s 21us/step - loss: 0.4493 - acc: 0.8474 - val_loss: 0.4504 - val_acc: 0.8464\n",
      "Epoch 6/50\n",
      "48000/48000 [==============================] - 1s 24us/step - loss: 0.4368 - acc: 0.8521 - val_loss: 0.4440 - val_acc: 0.8452\n",
      "Epoch 7/50\n",
      "48000/48000 [==============================] - 1s 20us/step - loss: 0.4277 - acc: 0.8549 - val_loss: 0.4344 - val_acc: 0.8517\n",
      "Epoch 8/50\n",
      "48000/48000 [==============================] - 1s 20us/step - loss: 0.4226 - acc: 0.8550 - val_loss: 0.4373 - val_acc: 0.8485\n",
      "Epoch 9/50\n",
      "48000/48000 [==============================] - 1s 18us/step - loss: 0.4160 - acc: 0.8573 - val_loss: 0.4325 - val_acc: 0.8507\n",
      "Epoch 10/50\n",
      "48000/48000 [==============================] - 1s 20us/step - loss: 0.4112 - acc: 0.8591 - val_loss: 0.4295 - val_acc: 0.8515\n",
      "Epoch 11/50\n",
      "48000/48000 [==============================] - 1s 18us/step - loss: 0.4072 - acc: 0.8604 - val_loss: 0.4267 - val_acc: 0.8545\n",
      "Epoch 12/50\n",
      "48000/48000 [==============================] - 1s 20us/step - loss: 0.4039 - acc: 0.8610 - val_loss: 0.4252 - val_acc: 0.8549\n",
      "Epoch 13/50\n",
      "48000/48000 [==============================] - 1s 21us/step - loss: 0.4012 - acc: 0.8627 - val_loss: 0.4233 - val_acc: 0.8523\n",
      "Epoch 14/50\n",
      "48000/48000 [==============================] - 1s 28us/step - loss: 0.3987 - acc: 0.8634 - val_loss: 0.4211 - val_acc: 0.8532\n",
      "Epoch 15/50\n",
      "48000/48000 [==============================] - 1s 30us/step - loss: 0.3947 - acc: 0.8641 - val_loss: 0.4154 - val_acc: 0.8580\n",
      "Epoch 16/50\n",
      "48000/48000 [==============================] - 1s 18us/step - loss: 0.3925 - acc: 0.8634 - val_loss: 0.4152 - val_acc: 0.8579\n",
      "Epoch 17/50\n",
      "48000/48000 [==============================] - 1s 17us/step - loss: 0.3904 - acc: 0.8658 - val_loss: 0.4177 - val_acc: 0.8561\n",
      "Epoch 18/50\n",
      "48000/48000 [==============================] - 1s 19us/step - loss: 0.3891 - acc: 0.8651 - val_loss: 0.4151 - val_acc: 0.8595\n",
      "Epoch 19/50\n",
      "48000/48000 [==============================] - 1s 19us/step - loss: 0.3871 - acc: 0.8662 - val_loss: 0.4137 - val_acc: 0.8572\n",
      "Epoch 20/50\n",
      "48000/48000 [==============================] - 1s 17us/step - loss: 0.3866 - acc: 0.8663 - val_loss: 0.4108 - val_acc: 0.8600\n",
      "Epoch 21/50\n",
      "48000/48000 [==============================] - 1s 17us/step - loss: 0.3838 - acc: 0.8664 - val_loss: 0.4141 - val_acc: 0.8571\n",
      "Epoch 22/50\n",
      "48000/48000 [==============================] - 1s 16us/step - loss: 0.3824 - acc: 0.8673 - val_loss: 0.4102 - val_acc: 0.8572\n",
      "Epoch 23/50\n",
      "48000/48000 [==============================] - 1s 16us/step - loss: 0.3803 - acc: 0.8678 - val_loss: 0.4136 - val_acc: 0.8563\n",
      "Epoch 24/50\n",
      "48000/48000 [==============================] - 1s 15us/step - loss: 0.3796 - acc: 0.8688 - val_loss: 0.4083 - val_acc: 0.8606\n",
      "Epoch 25/50\n",
      "48000/48000 [==============================] - 1s 16us/step - loss: 0.3786 - acc: 0.8685 - val_loss: 0.4161 - val_acc: 0.8565\n",
      "Epoch 26/50\n",
      "48000/48000 [==============================] - 1s 16us/step - loss: 0.3775 - acc: 0.8680 - val_loss: 0.4193 - val_acc: 0.8537\n",
      "Epoch 27/50\n",
      "48000/48000 [==============================] - 1s 19us/step - loss: 0.3776 - acc: 0.8682 - val_loss: 0.4087 - val_acc: 0.8582\n",
      "Epoch 28/50\n",
      "48000/48000 [==============================] - 1s 16us/step - loss: 0.3762 - acc: 0.8697 - val_loss: 0.4103 - val_acc: 0.8556\n",
      "Epoch 29/50\n",
      "48000/48000 [==============================] - 1s 16us/step - loss: 0.3747 - acc: 0.8695 - val_loss: 0.4108 - val_acc: 0.8583\n",
      "Epoch 30/50\n",
      "48000/48000 [==============================] - 1s 16us/step - loss: 0.3736 - acc: 0.8703 - val_loss: 0.4092 - val_acc: 0.8578\n",
      "Epoch 31/50\n",
      "48000/48000 [==============================] - 1s 16us/step - loss: 0.3729 - acc: 0.8692 - val_loss: 0.4105 - val_acc: 0.8578\n",
      "Epoch 32/50\n",
      "48000/48000 [==============================] - 1s 16us/step - loss: 0.3715 - acc: 0.8711 - val_loss: 0.4122 - val_acc: 0.8558\n",
      "Epoch 33/50\n",
      "48000/48000 [==============================] - 1s 21us/step - loss: 0.3707 - acc: 0.8696 - val_loss: 0.4109 - val_acc: 0.8565\n",
      "Epoch 34/50\n",
      "48000/48000 [==============================] - 1s 18us/step - loss: 0.3703 - acc: 0.8707 - val_loss: 0.4125 - val_acc: 0.8577\n",
      "Epoch 35/50\n",
      "48000/48000 [==============================] - 1s 17us/step - loss: 0.3689 - acc: 0.8711 - val_loss: 0.4127 - val_acc: 0.8572\n",
      "Epoch 36/50\n",
      "48000/48000 [==============================] - 1s 18us/step - loss: 0.3691 - acc: 0.8722 - val_loss: 0.4085 - val_acc: 0.8579\n",
      "Epoch 37/50\n",
      "48000/48000 [==============================] - 1s 17us/step - loss: 0.3666 - acc: 0.8715 - val_loss: 0.4120 - val_acc: 0.8578\n",
      "Epoch 38/50\n",
      "48000/48000 [==============================] - 1s 17us/step - loss: 0.3671 - acc: 0.8718 - val_loss: 0.4147 - val_acc: 0.8559\n",
      "Epoch 39/50\n",
      "48000/48000 [==============================] - 1s 17us/step - loss: 0.3663 - acc: 0.8719 - val_loss: 0.4122 - val_acc: 0.8567\n",
      "Epoch 40/50\n",
      "48000/48000 [==============================] - 1s 17us/step - loss: 0.3669 - acc: 0.8715 - val_loss: 0.4144 - val_acc: 0.8563\n",
      "Epoch 41/50\n",
      "48000/48000 [==============================] - 1s 18us/step - loss: 0.3666 - acc: 0.8710 - val_loss: 0.4126 - val_acc: 0.8561\n",
      "Epoch 42/50\n",
      "48000/48000 [==============================] - 1s 18us/step - loss: 0.3646 - acc: 0.8720 - val_loss: 0.4182 - val_acc: 0.8552\n",
      "Epoch 43/50\n",
      "48000/48000 [==============================] - 1s 17us/step - loss: 0.3637 - acc: 0.8718 - val_loss: 0.4144 - val_acc: 0.8561\n",
      "Epoch 44/50\n",
      "48000/48000 [==============================] - 1s 17us/step - loss: 0.3642 - acc: 0.8739 - val_loss: 0.4085 - val_acc: 0.8584\n",
      "Epoch 45/50\n",
      "48000/48000 [==============================] - 1s 18us/step - loss: 0.3633 - acc: 0.8724 - val_loss: 0.4082 - val_acc: 0.8587\n",
      "Epoch 46/50\n",
      "48000/48000 [==============================] - 1s 18us/step - loss: 0.3623 - acc: 0.8731 - val_loss: 0.4119 - val_acc: 0.8592\n",
      "Epoch 47/50\n",
      "48000/48000 [==============================] - 1s 18us/step - loss: 0.3628 - acc: 0.8731 - val_loss: 0.4144 - val_acc: 0.8571\n",
      "Epoch 48/50\n",
      "48000/48000 [==============================] - 1s 18us/step - loss: 0.3616 - acc: 0.8731 - val_loss: 0.4146 - val_acc: 0.8570\n",
      "Epoch 49/50\n",
      "48000/48000 [==============================] - 1s 17us/step - loss: 0.3613 - acc: 0.8730 - val_loss: 0.4147 - val_acc: 0.8567\n",
      "Epoch 50/50\n",
      "48000/48000 [==============================] - 1s 19us/step - loss: 0.3610 - acc: 0.8725 - val_loss: 0.4141 - val_acc: 0.8574\n"
     ]
    }
   ],
   "source": [
    "history = model.fit(X_train, y_train, batch_size=128, epochs=50, verbose=1, validation_split=0.2)"
   ]
  },
  {
   "cell_type": "code",
   "execution_count": 9,
   "metadata": {},
   "outputs": [
    {
     "name": "stdout",
     "output_type": "stream",
     "text": [
      "10000/10000 [==============================] - 0s 21us/step\n"
     ]
    },
    {
     "data": {
      "text/plain": [
       "[0.4447386927604675, 0.8478]"
      ]
     },
     "execution_count": 9,
     "metadata": {},
     "output_type": "execute_result"
    }
   ],
   "source": [
    "model.evaluate(X_test, y_test)"
   ]
  },
  {
   "cell_type": "markdown",
   "metadata": {},
   "source": [
    "# overfitting\n",
    " - высокая точность на тренировочном мн-ве\n",
    " - низакая на валидационное \n",
    "\n",
    "# underfitting\n",
    " - точность на валидационное выше чем на тренировочном \n",
    "\n",
    "\n",
    "# fine-tuning\n",
    "    -меняем параметры обучения для достижения лучшей точности "
   ]
  },
  {
   "cell_type": "code",
   "execution_count": 7,
   "metadata": {},
   "outputs": [
    {
     "name": "stdout",
     "output_type": "stream",
     "text": [
      "_________________________________________________________________\n",
      "Layer (type)                 Output Shape              Param #   \n",
      "=================================================================\n",
      "dense_1 (Dense)              (None, 10)                7850      \n",
      "=================================================================\n",
      "Total params: 7,850\n",
      "Trainable params: 7,850\n",
      "Non-trainable params: 0\n",
      "_________________________________________________________________\n"
     ]
    }
   ],
   "source": [
    "model.summary()"
   ]
  },
  {
   "cell_type": "code",
   "execution_count": 8,
   "metadata": {},
   "outputs": [],
   "source": [
    "y_pred = model.predict(X_test)"
   ]
  },
  {
   "cell_type": "code",
   "execution_count": null,
   "metadata": {},
   "outputs": [],
   "source": []
  }
 ],
 "metadata": {
  "kernelspec": {
   "display_name": "Python 3",
   "language": "python",
   "name": "python3"
  },
  "language_info": {
   "codemirror_mode": {
    "name": "ipython",
    "version": 3
   },
   "file_extension": ".py",
   "mimetype": "text/x-python",
   "name": "python",
   "nbconvert_exporter": "python",
   "pygments_lexer": "ipython3",
   "version": "3.6.8"
  }
 },
 "nbformat": 4,
 "nbformat_minor": 2
}
