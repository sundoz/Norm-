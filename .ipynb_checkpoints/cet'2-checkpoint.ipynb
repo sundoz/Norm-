{
 "cells": [
  {
   "cell_type": "code",
   "execution_count": 20,
   "metadata": {},
   "outputs": [
    {
     "data": {
      "text/plain": [
       "'NB_epoch=20\\nbatch_size=128\\nverbose==1\\nNbclasses=10\\noptimizer=SGD()\\nN_HIDDEN=128\\nvs=0.2'"
      ]
     },
     "execution_count": 20,
     "metadata": {},
     "output_type": "execute_result"
    }
   ],
   "source": [
    "from __future__ import print_function \n",
    "import numpy as np\n",
    "from keras.datasets import mnist\n",
    "from keras.models import Sequential \n",
    "from keras.layers.core import Dense, Activation\n",
    "from keras.optimizers import SGD, RMSprop, Adam\n",
    "from keras.utils import np_utils\n",
    "\n",
    "np.random.seed(42)\n",
    "\"\"\"NB_epoch=20\n",
    "batch_size=128\n",
    "verbose==1\n",
    "Nbclasses=10\n",
    "optimizer=SGD()\n",
    "N_HIDDEN=128\n",
    "vs=0.2\"\"\"\n",
    "\n"
   ]
  },
  {
   "cell_type": "code",
   "execution_count": 21,
   "metadata": {},
   "outputs": [
    {
     "name": "stdout",
     "output_type": "stream",
     "text": [
      "60000\n",
      "10000\n"
     ]
    }
   ],
   "source": [
    "(X_train,y_train),(X_test,y_test)=mnist.load_data()\n",
    "X_train=X_train.reshape(60000,784).astype('float32')/255\n",
    "X_test=X_test.reshape(10000,784).astype('float32')/255\n",
    "print(X_train.shape[0])\n",
    "print(X_test.shape[0])\n"
   ]
  },
  {
   "cell_type": "code",
   "execution_count": 22,
   "metadata": {},
   "outputs": [],
   "source": [
    "Y_train=np_utils.to_categorical(y_train,10)\n",
    "Y_test=np_utils.to_categorical(y_test,10)"
   ]
  },
  {
   "cell_type": "code",
   "execution_count": 23,
   "metadata": {},
   "outputs": [
    {
     "name": "stdout",
     "output_type": "stream",
     "text": [
      "_________________________________________________________________\n",
      "Layer (type)                 Output Shape              Param #   \n",
      "=================================================================\n",
      "dense_17 (Dense)             (None, 128)               100480    \n",
      "_________________________________________________________________\n",
      "activation_11 (Activation)   (None, 128)               0         \n",
      "_________________________________________________________________\n",
      "dense_18 (Dense)             (None, 128)               16512     \n",
      "_________________________________________________________________\n",
      "activation_12 (Activation)   (None, 128)               0         \n",
      "_________________________________________________________________\n",
      "dense_19 (Dense)             (None, 10)                1290      \n",
      "_________________________________________________________________\n",
      "activation_13 (Activation)   (None, 10)                0         \n",
      "=================================================================\n",
      "Total params: 118,282\n",
      "Trainable params: 118,282\n",
      "Non-trainable params: 0\n",
      "_________________________________________________________________\n"
     ]
    }
   ],
   "source": [
    "model=Sequential()\n",
    "model.add(Dense(128,input_shape=(784, )))\n",
    "model.add(Activation('relu'))\n",
    "\n",
    "\n",
    "model.add(Dense(128))\n",
    "model.add(Activation('relu'))\n",
    "\n",
    "model.add(Dense(10))\n",
    "model.add(Activation('softmax'))\n",
    "\n",
    "model.summary()"
   ]
  },
  {
   "cell_type": "code",
   "execution_count": 26,
   "metadata": {},
   "outputs": [],
   "source": [
    "model.compile(loss='categorical_crossentropy',\n",
    "             optimizer=RMSprop(),\n",
    "             metrics=['accuracy'])\n"
   ]
  },
  {
   "cell_type": "code",
   "execution_count": 27,
   "metadata": {},
   "outputs": [
    {
     "name": "stdout",
     "output_type": "stream",
     "text": [
      "Train on 48000 samples, validate on 12000 samples\n",
      "Epoch 1/20\n",
      "48000/48000 [==============================] - 2s 46us/step - loss: 0.3307 - acc: 0.9039 - val_loss: 0.1700 - val_acc: 0.9504\n",
      "Epoch 2/20\n",
      "48000/48000 [==============================] - 2s 34us/step - loss: 0.1409 - acc: 0.9579 - val_loss: 0.1207 - val_acc: 0.9642\n",
      "Epoch 3/20\n",
      "48000/48000 [==============================] - 2s 36us/step - loss: 0.0962 - acc: 0.9702 - val_loss: 0.1045 - val_acc: 0.9677\n",
      "Epoch 4/20\n",
      "48000/48000 [==============================] - 2s 38us/step - loss: 0.0725 - acc: 0.9780 - val_loss: 0.0962 - val_acc: 0.9710\n",
      "Epoch 5/20\n",
      "48000/48000 [==============================] - 2s 35us/step - loss: 0.0574 - acc: 0.9827 - val_loss: 0.1042 - val_acc: 0.9691\n",
      "Epoch 6/20\n",
      "48000/48000 [==============================] - 2s 35us/step - loss: 0.0462 - acc: 0.9859 - val_loss: 0.0964 - val_acc: 0.9711\n",
      "Epoch 7/20\n",
      "48000/48000 [==============================] - 2s 34us/step - loss: 0.0370 - acc: 0.9887 - val_loss: 0.1037 - val_acc: 0.9727\n",
      "Epoch 8/20\n",
      "48000/48000 [==============================] - 2s 39us/step - loss: 0.0310 - acc: 0.9902 - val_loss: 0.0967 - val_acc: 0.9748\n",
      "Epoch 9/20\n",
      "48000/48000 [==============================] - 2s 35us/step - loss: 0.0248 - acc: 0.9924 - val_loss: 0.1021 - val_acc: 0.9743\n",
      "Epoch 10/20\n",
      "48000/48000 [==============================] - 2s 35us/step - loss: 0.0204 - acc: 0.9936 - val_loss: 0.0952 - val_acc: 0.9773\n",
      "Epoch 11/20\n",
      "48000/48000 [==============================] - 2s 35us/step - loss: 0.0168 - acc: 0.9944 - val_loss: 0.1025 - val_acc: 0.9748\n",
      "Epoch 12/20\n",
      "48000/48000 [==============================] - 2s 36us/step - loss: 0.0136 - acc: 0.9957 - val_loss: 0.1146 - val_acc: 0.9749\n",
      "Epoch 13/20\n",
      "48000/48000 [==============================] - 2s 40us/step - loss: 0.0116 - acc: 0.9964 - val_loss: 0.1084 - val_acc: 0.9778\n",
      "Epoch 14/20\n",
      "48000/48000 [==============================] - 2s 35us/step - loss: 0.0093 - acc: 0.9971 - val_loss: 0.1070 - val_acc: 0.9784\n",
      "Epoch 15/20\n",
      "48000/48000 [==============================] - 2s 35us/step - loss: 0.0076 - acc: 0.9975 - val_loss: 0.1226 - val_acc: 0.9774\n",
      "Epoch 16/20\n",
      "48000/48000 [==============================] - 2s 36us/step - loss: 0.0068 - acc: 0.9978 - val_loss: 0.1240 - val_acc: 0.9766\n",
      "Epoch 17/20\n",
      "48000/48000 [==============================] - 2s 37us/step - loss: 0.0051 - acc: 0.9983 - val_loss: 0.1287 - val_acc: 0.9780\n",
      "Epoch 18/20\n",
      "48000/48000 [==============================] - 2s 35us/step - loss: 0.0056 - acc: 0.9982 - val_loss: 0.1285 - val_acc: 0.9780\n",
      "Epoch 19/20\n",
      "48000/48000 [==============================] - 2s 35us/step - loss: 0.0042 - acc: 0.9987 - val_loss: 0.1456 - val_acc: 0.9766\n",
      "Epoch 20/20\n",
      "48000/48000 [==============================] - 2s 35us/step - loss: 0.0042 - acc: 0.9985 - val_loss: 0.1408 - val_acc: 0.9771\n"
     ]
    },
    {
     "data": {
      "text/plain": [
       "<keras.callbacks.History at 0x21708016c88>"
      ]
     },
     "execution_count": 27,
     "metadata": {},
     "output_type": "execute_result"
    }
   ],
   "source": [
    "model.fit(X_train,Y_train,\n",
    "         batch_size=128,epochs=20,\n",
    "         verbose=1, validation_split=0.2)\n"
   ]
  },
  {
   "cell_type": "code",
   "execution_count": 28,
   "metadata": {},
   "outputs": [
    {
     "name": "stdout",
     "output_type": "stream",
     "text": [
      "10000/10000 [==============================] - 0s 32us/step\n"
     ]
    },
    {
     "data": {
      "text/plain": [
       "[0.12122102097617449, 0.9776]"
      ]
     },
     "execution_count": 28,
     "metadata": {},
     "output_type": "execute_result"
    }
   ],
   "source": [
    "model.evaluate(X_test,Y_test, verbose=1)"
   ]
  },
  {
   "cell_type": "code",
   "execution_count": null,
   "metadata": {},
   "outputs": [],
   "source": []
  }
 ],
 "metadata": {
  "kernelspec": {
   "display_name": "Python 3",
   "language": "python",
   "name": "python3"
  },
  "language_info": {
   "codemirror_mode": {
    "name": "ipython",
    "version": 3
   },
   "file_extension": ".py",
   "mimetype": "text/x-python",
   "name": "python",
   "nbconvert_exporter": "python",
   "pygments_lexer": "ipython3",
   "version": "3.6.8"
  }
 },
 "nbformat": 4,
 "nbformat_minor": 2
}
