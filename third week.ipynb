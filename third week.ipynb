{
 "cells": [
  {
   "cell_type": "code",
   "execution_count": 2,
   "metadata": {},
   "outputs": [],
   "source": [
    "# 3.1 там уравнение\n",
    "def f(x):\n",
    "    \n",
    "    if x<=-2:\n",
    "        b=1-(x+2)**2\n",
    "    elif -2<x<=2:\n",
    "        b=-x/2\n",
    "    else:\n",
    "        b=(x-2)**2+1\n",
    "        print(b)\n",
    "        \n",
    "        \n",
    "        "
   ]
  },
  {
   "cell_type": "code",
   "execution_count": 3,
   "metadata": {},
   "outputs": [
    {
     "name": "stdout",
     "output_type": "stream",
     "text": [
      "10\n"
     ]
    }
   ],
   "source": [
    "f(5)\n"
   ]
  },
  {
   "cell_type": "code",
   "execution_count": null,
   "metadata": {},
   "outputs": [],
   "source": [
    "#удаляет из него все нечётные значения, а чётные нацело делит на два\n",
    "def modify_list(l):\n",
    "    while i<len(l):\n",
    "        if l[i]%2!=0:\n",
    "            del l[i]\n",
    "        else :\n",
    "            l[i]=l[i]//2\n",
    "    return(l)\n",
    "\n",
    "            "
   ]
  },
  {
   "cell_type": "code",
   "execution_count": 21,
   "metadata": {},
   "outputs": [
    {
     "name": "stdout",
     "output_type": "stream",
     "text": [
      "{2: [1, 2, 3, 5]}\n",
      "{2: [1, 2, 3, 5, 228]}\n"
     ]
    }
   ],
   "source": [
    "#Если ключ key есть в словаре d, то добавьте значение value в список, который хранится по этому ключу. \n",
    "#Если ключа key нет в словаре, то нужно добавить значение в список по ключу 2⋅key. Если и ключа 2⋅key нет, то нужно добавить ключ 2⋅key в словарь и сопоставить ему список из переданного элемента [value].\n",
    "\n",
    "a=[1,2,3]\n",
    "d={2:a}\n",
    "key=2\n",
    "value=228\n",
    "d[2]+=[5]\n",
    "print(d)\n",
    "def update_dictionare(d,key,value):\n",
    "    if key in d:\n",
    "        d[key]+=[value]\n",
    "    elif key*2 in d:\n",
    "        d[key*2]+=[value]\n",
    "    else: \n",
    "        d[key*2]=[value]\n",
    "    return(d)\n",
    "\n",
    "    \n",
    "print(update_dictionare(d,key,value))\n",
    "        \n",
    "        \n",
    "    \n",
    "    \n",
    "    "
   ]
  },
  {
   "cell_type": "code",
   "execution_count": 33,
   "metadata": {},
   "outputs": [
    {
     "name": "stdout",
     "output_type": "stream",
     "text": [
      "w W\n",
      "w   2\n"
     ]
    }
   ],
   "source": [
    "a=[str(i) for i in input().split()]\n",
    "d={}\n",
    "for i in a:\n",
    "    i=i.lower()\n",
    "    if i in d:\n",
    "     \n",
    "        d[i]+=1\n",
    "    else :\n",
    "        d[i]=1\n",
    "for i,j in d.items():\n",
    "    print(i,' ',j)\n",
    "        \n",
    "        "
   ]
  },
  {
   "cell_type": "code",
   "execution_count": 31,
   "metadata": {},
   "outputs": [
    {
     "data": {
      "text/plain": [
       "['kwdf', 'dlwkfkwd', 'fwlkdfmd']"
      ]
     },
     "execution_count": 31,
     "metadata": {},
     "output_type": "execute_result"
    }
   ],
   "source": [
    "a"
   ]
  },
  {
   "cell_type": "code",
   "execution_count": 35,
   "metadata": {},
   "outputs": [
    {
     "ename": "SyntaxError",
     "evalue": "invalid syntax (<ipython-input-35-138a4dc48fd0>, line 10)",
     "output_type": "error",
     "traceback": [
      "\u001b[1;36m  File \u001b[1;32m\"<ipython-input-35-138a4dc48fd0>\"\u001b[1;36m, line \u001b[1;32m10\u001b[0m\n\u001b[1;33m    for i in d.values):\u001b[0m\n\u001b[1;37m                     ^\u001b[0m\n\u001b[1;31mSyntaxError\u001b[0m\u001b[1;31m:\u001b[0m invalid syntax\n"
     ]
    }
   ],
   "source": [
    "\n",
    "d={}\n",
    "n=int(input())\n",
    "for i in range(n):\n",
    "    x=int(input())\n",
    "    if x in d:\n",
    "        print(d[])\n",
    "    else:\n",
    "       \n",
    "        d[x]=f(x)\n",
    "        print(d[x])\n"
   ]
  },
  {
   "cell_type": "code",
   "execution_count": 40,
   "metadata": {},
   "outputs": [],
   "source": [
    "with open('input.txt')as inf:\n",
    "    for line in inf:\n",
    "        line =line.strip()\n",
    "        print(line)"
   ]
  },
  {
   "cell_type": "code",
   "execution_count": 41,
   "metadata": {},
   "outputs": [
    {
     "ename": "NameError",
     "evalue": "name 'line' is not defined",
     "output_type": "error",
     "traceback": [
      "\u001b[1;31m---------------------------------------------------------------------------\u001b[0m",
      "\u001b[1;31mNameError\u001b[0m                                 Traceback (most recent call last)",
      "\u001b[1;32m<ipython-input-41-6bfa09d82ce3>\u001b[0m in \u001b[0;36m<module>\u001b[1;34m\u001b[0m\n\u001b[1;32m----> 1\u001b[1;33m \u001b[0mline\u001b[0m\u001b[1;33m\u001b[0m\u001b[1;33m\u001b[0m\u001b[0m\n\u001b[0m",
      "\u001b[1;31mNameError\u001b[0m: name 'line' is not defined"
     ]
    }
   ],
   "source": [
    "line"
   ]
  },
  {
   "cell_type": "code",
   "execution_count": null,
   "metadata": {},
   "outputs": [],
   "source": []
  }
 ],
 "metadata": {
  "kernelspec": {
   "display_name": "Python 3",
   "language": "python",
   "name": "python3"
  },
  "language_info": {
   "codemirror_mode": {
    "name": "ipython",
    "version": 3
   },
   "file_extension": ".py",
   "mimetype": "text/x-python",
   "name": "python",
   "nbconvert_exporter": "python",
   "pygments_lexer": "ipython3",
   "version": "3.7.1"
  }
 },
 "nbformat": 4,
 "nbformat_minor": 2
}
